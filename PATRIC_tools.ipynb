{
 "cells": [
  {
   "cell_type": "code",
   "execution_count": 1,
   "metadata": {},
   "outputs": [],
   "source": [
    "from patric_tools import genomes\n",
    "from patric_tools import amr"
   ]
  },
  {
   "cell_type": "code",
   "execution_count": 2,
   "metadata": {},
   "outputs": [
    {
     "data": {
      "text/plain": [
       "'./genome_metadata'"
      ]
     },
     "execution_count": 2,
     "metadata": {},
     "output_type": "execute_result"
    }
   ],
   "source": [
    "# Output file is genome_metadata\n",
    "genomes.get_latest_metadata('.')"
   ]
  },
  {
   "cell_type": "code",
   "execution_count": 4,
   "metadata": {},
   "outputs": [
    {
     "data": {
      "text/plain": [
       "datetime.datetime(2019, 3, 27, 17, 31, 29)"
      ]
     },
     "execution_count": 4,
     "metadata": {},
     "output_type": "execute_result"
    }
   ],
   "source": [
    "# output file is PATRIC_genomes_AMR\n",
    "amr.get_latest_metadata('.')\n",
    "amr.get_last_metadata_update_date()"
   ]
  },
  {
   "cell_type": "code",
   "execution_count": 6,
   "metadata": {},
   "outputs": [
    {
     "name": "stderr",
     "output_type": "stream",
     "text": [
      "/home4/youn01f/Desktop/workspace/myenv/lib/python3.6/site-packages/IPython/core/interactiveshell.py:2856: DtypeWarning: Columns (4) have mixed types. Specify dtype option on import or set low_memory=False.\n",
      "  if self.run_code(code, result):\n"
     ]
    },
    {
     "data": {
      "text/plain": [
       "(array(['enterobacter asburiae', 'enterobacter asburiae',\n",
       "        'enterobacter asburiae', 'enterobacter asburiae',\n",
       "        'enterobacter asburiae', 'enterobacter cloacae',\n",
       "        'enterobacter cloacae', 'enterobacter cloacae',\n",
       "        'enterobacter cloacae', 'enterobacter cloacae',\n",
       "        'enterobacter cloacae', 'enterobacter cloacae',\n",
       "        'enterobacter cloacae', 'enterobacter cloacae',\n",
       "        'enterobacter cloacae', 'enterobacter cloacae',\n",
       "        'enterobacter cloacae', 'enterobacter cloacae',\n",
       "        'enterobacter cloacae', 'enterobacter cloacae',\n",
       "        'enterobacter cloacae', 'enterobacter cloacae',\n",
       "        'enterobacter cloacae', 'enterobacter cloacae',\n",
       "        'enterobacter cloacae', 'enterobacter cloacae',\n",
       "        'enterobacter cloacae', 'enterobacter cloacae',\n",
       "        'enterobacter cloacae', 'enterobacter cloacae',\n",
       "        'enterobacter cloacae', 'enterobacter cloacae',\n",
       "        'enterobacter cloacae', 'enterobacter cloacae',\n",
       "        'enterobacter cloacae', 'enterobacter cloacae',\n",
       "        'enterobacter cloacae', 'enterobacter cloacae',\n",
       "        'enterobacter cloacae', 'enterobacter cloacae',\n",
       "        'enterobacter cloacae', 'enterobacter cloacae',\n",
       "        'enterobacter cloacae', 'enterobacter cloacae',\n",
       "        'enterobacter cloacae', 'enterobacter cloacae',\n",
       "        'enterobacter cloacae', 'enterobacter cloacae',\n",
       "        'enterobacter cloacae', 'enterobacter cloacae',\n",
       "        'enterobacter cloacae', 'enterobacter cloacae',\n",
       "        'enterobacter cloacae', 'enterobacter cloacae',\n",
       "        'enterobacter cloacae', 'enterobacter cloacae',\n",
       "        'enterobacter cloacae', 'enterobacter cloacae',\n",
       "        'enterobacter cloacae', 'enterobacter cloacae',\n",
       "        'enterobacter cloacae', 'enterobacter cloacae',\n",
       "        'enterobacter cloacae', 'enterobacter cloacae',\n",
       "        'enterobacter cloacae', 'enterobacter cloacae',\n",
       "        'enterobacter cloacae', 'enterobacter cloacae',\n",
       "        'enterobacter cloacae', 'enterobacter cloacae',\n",
       "        'enterobacter cloacae', 'enterobacter cloacae',\n",
       "        'enterobacter cloacae', 'enterobacter cloacae',\n",
       "        'enterobacter cloacae', 'enterobacter cloacae',\n",
       "        'enterobacter cloacae', 'enterobacter cloacae',\n",
       "        'enterobacter cloacae', 'enterobacter cloacae',\n",
       "        'enterobacter cloacae', 'enterobacter cloacae',\n",
       "        'enterobacter cloacae', 'enterobacter cloacae',\n",
       "        'enterobacter cloacae', 'enterobacter cloacae',\n",
       "        'enterobacter cloacae', 'enterobacter cloacae',\n",
       "        'enterobacter cloacae', 'enterobacter cloacae',\n",
       "        'enterobacter cloacae', 'enterobacter cloacae',\n",
       "        'enterobacter cloacae', 'enterobacter cloacae',\n",
       "        'enterobacter cloacae', 'enterobacter cloacae',\n",
       "        'enterobacter cloacae', 'enterobacter cloacae',\n",
       "        'enterobacter cloacae', 'enterobacter cloacae',\n",
       "        'enterobacter cloacae', 'enterobacter cloacae',\n",
       "        'enterobacter cloacae', 'enterobacter cloacae',\n",
       "        'enterobacter cloacae', 'enterobacter cloacae',\n",
       "        'enterobacter cloacae', 'enterobacter cloacae',\n",
       "        'enterobacter cloacae', 'enterobacter cloacae',\n",
       "        'enterobacter cloacae', 'enterobacter cloacae'], dtype=object),\n",
       " array(['61645.207', '61645.208', '61645.209', '61645.210', '61645.212',\n",
       "        '1329846.6', '1812934.11', '1812935.16', '2077137.3', '2077136.3',\n",
       "        '550.2106', '550.2107', '550.2108', '550.2110', '550.2111',\n",
       "        '550.1577', '550.2113', '550.2114', '550.2115', '550.2116',\n",
       "        '550.2117', '550.2118', '550.2119', '550.2120', '550.2121',\n",
       "        '550.2122', '550.2123', '550.2124', '550.1074', '550.1647',\n",
       "        '550.1144', '550.1142', '550.1525', '550.1113', '550.1526',\n",
       "        '550.1668', '550.1528', '550.1145', '550.1579', '550.1141',\n",
       "        '550.1584', '550.1581', '550.542', '550.541', '550.2125',\n",
       "        '550.535', '550.622', '550.2126', '550.2127', '550.2128',\n",
       "        '550.2129', '550.2130', '550.2131', '550.2133', '550.2134',\n",
       "        '550.2135', '550.2136', '550.2137', '550.2138', '550.2139',\n",
       "        '550.2140', '550.2141', '550.2142', '550.2143', '550.2145',\n",
       "        '550.2146', '550.2147', '550.2148', '550.2149', '550.2150',\n",
       "        '550.2151', '550.2152', '550.2153', '550.2154', '550.2155',\n",
       "        '550.2156', '550.2157', '550.2158', '550.2159', '550.2160',\n",
       "        '550.2161', '550.2162', '550.538', '550.551', '550.553', '550.546',\n",
       "        '550.555', '550.533', '550.549', '550.548', '550.552', '550.566',\n",
       "        '550.543', '550.557', '550.562', '550.564', '550.537', '550.560',\n",
       "        '550.534', '550.547', '550.558', '550.545', '550.563', '550.561',\n",
       "        '550.554', '550.539', '550.565', '550.550', '550.556', '550.540',\n",
       "        '550.544', '550.559'], dtype=object),\n",
       " array([1, 0, 0, 0, 0, 1, 1, 2, 0, 0, 1, 1, 1, 1, 1, 0, 0, 0, 1, 0, 0, 0,\n",
       "        0, 0, 0, 1, 1, 1, 1, 1, 0, 1, 0, 1, 2, 0, 1, 1, 1, 1, 1, 1, 1, 1,\n",
       "        2, 1, 0, 1, 1, 0, 0, 0, 1, 1, 0, 1, 1, 0, 0, 0, 1, 1, 1, 0, 0, 1,\n",
       "        0, 0, 0, 0, 0, 1, 0, 1, 0, 1, 1, 1, 0, 1, 1, 1, 1, 1, 1, 1, 1, 1,\n",
       "        1, 1, 1, 1, 1, 1, 1, 0, 1, 1, 1, 1, 1, 1, 1, 1, 1, 1, 1, 1, 1, 1,\n",
       "        1, 1], dtype=uint8))"
      ]
     },
     "execution_count": 6,
     "metadata": {},
     "output_type": "execute_result"
    }
   ],
   "source": [
    "antibiotic = 'cefepime'\n",
    "species = ['enterobacter cloacae', 'enterobacter asburiae']\n",
    "\n",
    "# returns name, id, status (0: susceptible, 1: resistant, 2: intermediate / dose-dependent)\n",
    "amr.get_amr_data_by_species_and_antibiotic(antibiotic, species)\n"
   ]
  },
  {
   "cell_type": "markdown",
   "metadata": {},
   "source": [
    "###  Set path to metadata.tsv file and output dir\n"
   ]
  },
  {
   "cell_type": "code",
   "execution_count": null,
   "metadata": {},
   "outputs": [],
   "source": [
    "metapath = 'kover2_paper/data/neisseria gonorrhoeae/azithromycin/metadata.tsv'\n",
    "outdir = '../amr/data'\n"
   ]
  },
  {
   "cell_type": "code",
   "execution_count": 1,
   "metadata": {},
   "outputs": [
    {
     "name": "stdout",
     "output_type": "stream",
     "text": [
      "Downloading genomes\n",
      "... Genome: 485.590 -> ../amr/data/485.590.fna\n",
      "... Genome: 485.478 -> ../amr/data/485.478.fna\n",
      "... Genome: 485.464 -> ../amr/data/485.464.fna\n",
      "... Genome: 485.477 -> ../amr/data/485.477.fna\n",
      "... Genome: 485.475 -> ../amr/data/485.475.fna\n",
      "... Genome: 485.474 -> ../amr/data/485.474.fna\n",
      "... Genome: 485.473 -> ../amr/data/485.473.fna\n",
      "... Genome: 485.471 -> ../amr/data/485.471.fna\n",
      "... Genome: 485.472 -> ../amr/data/485.472.fna\n",
      "... Genome: 485.470 -> ../amr/data/485.470.fna\n",
      "... Genome: 485.589 -> ../amr/data/485.589.fna\n",
      "... Genome: 485.467 -> ../amr/data/485.467.fna\n",
      "... Genome: 485.466 -> ../amr/data/485.466.fna\n",
      "... Genome: 485.476 -> ../amr/data/485.476.fna\n",
      "... Genome: 485.440 -> ../amr/data/485.440.fna\n",
      "... Genome: 485.575 -> ../amr/data/485.575.fna\n",
      "... Genome: 485.574 -> ../amr/data/485.574.fna\n",
      "... Genome: 485.411 -> ../amr/data/485.411.fna\n",
      "... Genome: 485.410 -> ../amr/data/485.410.fna\n",
      "... Genome: 485.408 -> ../amr/data/485.408.fna\n",
      "... Genome: 485.561 -> ../amr/data/485.561.fna\n",
      "... Genome: 485.404 -> ../amr/data/485.404.fna\n",
      "... Genome: 485.405 -> ../amr/data/485.405.fna\n",
      "... Genome: 485.406 -> ../amr/data/485.406.fna\n",
      "... Genome: 485.560 -> ../amr/data/485.560.fna\n",
      "... Genome: 485.559 -> ../amr/data/485.559.fna\n",
      "... Genome: 485.562 -> ../amr/data/485.562.fna\n",
      "... Genome: 485.558 -> ../amr/data/485.558.fna\n",
      "... Genome: 485.556 -> ../amr/data/485.556.fna\n",
      "... Genome: 485.396 -> ../amr/data/485.396.fna\n",
      "... Genome: 485.555 -> ../amr/data/485.555.fna\n",
      "... Genome: 485.554 -> ../amr/data/485.554.fna\n",
      "... Genome: 485.553 -> ../amr/data/485.553.fna\n",
      "... Genome: 485.394 -> ../amr/data/485.394.fna\n",
      "... Genome: 485.393 -> ../amr/data/485.393.fna\n",
      "... Genome: 485.392 -> ../amr/data/485.392.fna\n",
      "... Genome: 485.391 -> ../amr/data/485.391.fna\n",
      "... Genome: 485.557 -> ../amr/data/485.557.fna\n",
      "... Genome: 485.563 -> ../amr/data/485.563.fna\n",
      "... Genome: 485.564 -> ../amr/data/485.564.fna\n",
      "... Genome: 485.414 -> ../amr/data/485.414.fna\n",
      "... Genome: 485.573 -> ../amr/data/485.573.fna\n",
      "... Genome: 485.435 -> ../amr/data/485.435.fna\n",
      "... Genome: 485.436 -> ../amr/data/485.436.fna\n",
      "... Genome: 485.434 -> ../amr/data/485.434.fna\n",
      "... Genome: 485.433 -> ../amr/data/485.433.fna\n",
      "... Genome: 485.572 -> ../amr/data/485.572.fna\n",
      "... Genome: 485.431 -> ../amr/data/485.431.fna\n",
      "... Genome: 485.571 -> ../amr/data/485.571.fna\n",
      "... Genome: 485.570 -> ../amr/data/485.570.fna\n",
      "... Genome: 485.428 -> ../amr/data/485.428.fna\n",
      "... Genome: 485.427 -> ../amr/data/485.427.fna\n",
      "... Genome: 485.569 -> ../amr/data/485.569.fna\n",
      "... Genome: 485.425 -> ../amr/data/485.425.fna\n",
      "... Genome: 485.568 -> ../amr/data/485.568.fna\n",
      "... Genome: 485.423 -> ../amr/data/485.423.fna\n",
      "... Genome: 485.422 -> ../amr/data/485.422.fna\n",
      "... Genome: 485.421 -> ../amr/data/485.421.fna\n",
      "... Genome: 485.420 -> ../amr/data/485.420.fna\n",
      "... Genome: 485.567 -> ../amr/data/485.567.fna\n",
      "... Genome: 485.566 -> ../amr/data/485.566.fna\n",
      "... Genome: 485.565 -> ../amr/data/485.565.fna\n",
      "... Genome: 485.552 -> ../amr/data/485.552.fna\n",
      "... Genome: 485.486 -> ../amr/data/485.486.fna\n",
      "Writing summary TSV file: /home4/youn01f/Desktop/workspace/patric_tools/genome_paths.tsv\n"
     ]
    },
    {
     "data": {
      "text/plain": [
       "3967"
      ]
     },
     "execution_count": 1,
     "metadata": {},
     "output_type": "execute_result"
    }
   ],
   "source": [
    "\"\"\"\n",
    "Download the genomes in a dataset from the PATRIC database\n",
    "\n",
    "Note: depends on PATRIC tools (https://github.com/aldro61/patric_tools)\n",
    "\n",
    "\"\"\"\n",
    "\n",
    "\n",
    "from os.path import abspath, join\n",
    "from patric_tools.genomes import download_genome_contigs\n",
    "\n",
    "\n",
    "def download_genome(g_id, outdir):\n",
    "    print( \"... Genome: {0!s} -> {1!s}/{0!s}.fna\".format(g_id, outdir))\n",
    "    download_genome_contigs(g_id, outdir=outdir)\n",
    "\n",
    "\n",
    "\n",
    "\n",
    "genome_ids, labels = zip(*[l.strip().split(\"\\t\") for l in open(metapath, \"r\")])\n",
    "\n",
    "print (\"Downloading genomes\")\n",
    "genome_paths = []\n",
    "for g_id in genome_ids:\n",
    "    download_genome(g_id, outdir=outdir)\n",
    "    genome_path = join(abspath(outdir), g_id + \".fna\")\n",
    "    genome_paths.append(g_id + \"\\t\" + genome_path)\n",
    "\n",
    "summary_path = abspath(\"genome_paths.tsv\")\n",
    "print (\"Writing summary TSV file:\", summary_path)\n",
    "open(summary_path, \"w\").write(\"\\n\".join(genome_paths))\n"
   ]
  }
 ],
 "metadata": {
  "kernelspec": {
   "display_name": "Python 3",
   "language": "python",
   "name": "python3"
  },
  "language_info": {
   "codemirror_mode": {
    "name": "ipython",
    "version": 3
   },
   "file_extension": ".py",
   "mimetype": "text/x-python",
   "name": "python",
   "nbconvert_exporter": "python",
   "pygments_lexer": "ipython3",
   "version": "3.6.3"
  }
 },
 "nbformat": 4,
 "nbformat_minor": 2
}
