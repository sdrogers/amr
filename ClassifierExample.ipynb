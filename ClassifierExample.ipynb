{
 "cells": [
  {
   "cell_type": "markdown",
   "metadata": {},
   "source": [
    "### Load data"
   ]
  },
  {
   "cell_type": "code",
   "execution_count": 3,
   "metadata": {},
   "outputs": [],
   "source": [
    "import json\n",
    "processed_file = 'C://Users//Vinny//work//amr_files//dsk_processed_filtered//dsk_processed_filtered.json'\n",
    "with open(processed_file) as json_file:\n",
    "    data = json.load(json_file)"
   ]
  },
  {
   "cell_type": "code",
   "execution_count": 4,
   "metadata": {},
   "outputs": [],
   "source": [
    "from scipy.sparse import coo_matrix\n",
    "i,j,k = zip(*data['data_list'])\n",
    "coo = coo_matrix((k,(i,j)),shape = (len(data['kmer_idx']),len(data['strain_idx'])))"
   ]
  },
  {
   "cell_type": "code",
   "execution_count": 5,
   "metadata": {},
   "outputs": [
    {
     "data": {
      "text/plain": [
       "<263453x144 sparse matrix of type '<class 'numpy.int32'>'\n",
       "\twith 21496883 stored elements in COOrdinate format>"
      ]
     },
     "execution_count": 5,
     "metadata": {},
     "output_type": "execute_result"
    }
   ],
   "source": [
    "coo"
   ]
  },
  {
   "cell_type": "code",
   "execution_count": 6,
   "metadata": {},
   "outputs": [
    {
     "data": {
      "text/plain": [
       "(263453, 144)"
      ]
     },
     "execution_count": 6,
     "metadata": {},
     "output_type": "execute_result"
    }
   ],
   "source": [
    "coo.shape"
   ]
  },
  {
   "cell_type": "code",
   "execution_count": 7,
   "metadata": {},
   "outputs": [
    {
     "data": {
      "text/plain": [
       "[('/srv/data/amr/sample_data/strain_kmers/GCF_000660705.1_Myco_tube_TKK-01-0030_V1_genomic.txt',\n",
       "  0),\n",
       " ('/srv/data/amr/sample_data/strain_kmers/GCF_000659825.1_Myco_tube_TKK_02_0059_V1_genomic.txt',\n",
       "  1),\n",
       " ('/srv/data/amr/sample_data/strain_kmers/GCF_000659225.1_Myco_tube_TKK_02_0005_V1_genomic.txt',\n",
       "  2)]"
      ]
     },
     "execution_count": 7,
     "metadata": {},
     "output_type": "execute_result"
    }
   ],
   "source": [
    "sorted_strains = sorted(data['strain_idx'].items(), key=lambda tup: tup[1])\n",
    "sorted_strains[0:3]"
   ]
  },
  {
   "cell_type": "markdown",
   "metadata": {},
   "source": [
    "### Load prediction labels"
   ]
  },
  {
   "cell_type": "code",
   "execution_count": 8,
   "metadata": {},
   "outputs": [],
   "source": [
    "import pandas as pd\n",
    "outcome_file = 'C://Users//Vinny//work//amr//TBmetadata//pyrazinamide.csv'\n",
    "df = pd.read_csv(outcome_file, header=None)"
   ]
  },
  {
   "cell_type": "code",
   "execution_count": 9,
   "metadata": {},
   "outputs": [],
   "source": [
    "import os\n",
    "\n",
    "pred_labels = []\n",
    "for strain_name, idx in sorted_strains:\n",
    "    basename = os.path.basename(strain_name)\n",
    "\n",
    "    found = False\n",
    "    for idx2, row in df.iterrows():\n",
    "        strain = row[0].astype(str)\n",
    "        label = row[2].astype(int)\n",
    "        if strain in basename:\n",
    "            found = True\n",
    "            break\n",
    "\n",
    "    if found:\n",
    "        pred_labels.append((strain, label))    "
   ]
  },
  {
   "cell_type": "code",
   "execution_count": 10,
   "metadata": {},
   "outputs": [
    {
     "data": {
      "text/html": [
       "<div>\n",
       "<style scoped>\n",
       "    .dataframe tbody tr th:only-of-type {\n",
       "        vertical-align: middle;\n",
       "    }\n",
       "\n",
       "    .dataframe tbody tr th {\n",
       "        vertical-align: top;\n",
       "    }\n",
       "\n",
       "    .dataframe thead th {\n",
       "        text-align: right;\n",
       "    }\n",
       "</style>\n",
       "<table border=\"1\" class=\"dataframe\">\n",
       "  <thead>\n",
       "    <tr style=\"text-align: right;\">\n",
       "      <th></th>\n",
       "      <th>strain</th>\n",
       "      <th>resistance</th>\n",
       "    </tr>\n",
       "  </thead>\n",
       "  <tbody>\n",
       "    <tr>\n",
       "      <td>0</td>\n",
       "      <td>660705.1</td>\n",
       "      <td>0</td>\n",
       "    </tr>\n",
       "    <tr>\n",
       "      <td>1</td>\n",
       "      <td>659825.1</td>\n",
       "      <td>1</td>\n",
       "    </tr>\n",
       "    <tr>\n",
       "      <td>2</td>\n",
       "      <td>659225.1</td>\n",
       "      <td>1</td>\n",
       "    </tr>\n",
       "    <tr>\n",
       "      <td>3</td>\n",
       "      <td>657135.1</td>\n",
       "      <td>1</td>\n",
       "    </tr>\n",
       "    <tr>\n",
       "      <td>4</td>\n",
       "      <td>680395.1</td>\n",
       "      <td>1</td>\n",
       "    </tr>\n",
       "    <tr>\n",
       "      <td>...</td>\n",
       "      <td>...</td>\n",
       "      <td>...</td>\n",
       "    </tr>\n",
       "    <tr>\n",
       "      <td>139</td>\n",
       "      <td>660785.1</td>\n",
       "      <td>1</td>\n",
       "    </tr>\n",
       "    <tr>\n",
       "      <td>140</td>\n",
       "      <td>659905.1</td>\n",
       "      <td>1</td>\n",
       "    </tr>\n",
       "    <tr>\n",
       "      <td>141</td>\n",
       "      <td>680635.1</td>\n",
       "      <td>1</td>\n",
       "    </tr>\n",
       "    <tr>\n",
       "      <td>142</td>\n",
       "      <td>659485.1</td>\n",
       "      <td>1</td>\n",
       "    </tr>\n",
       "    <tr>\n",
       "      <td>143</td>\n",
       "      <td>656115.1</td>\n",
       "      <td>1</td>\n",
       "    </tr>\n",
       "  </tbody>\n",
       "</table>\n",
       "<p>144 rows × 2 columns</p>\n",
       "</div>"
      ],
      "text/plain": [
       "       strain  resistance\n",
       "0    660705.1           0\n",
       "1    659825.1           1\n",
       "2    659225.1           1\n",
       "3    657135.1           1\n",
       "4    680395.1           1\n",
       "..        ...         ...\n",
       "139  660785.1           1\n",
       "140  659905.1           1\n",
       "141  680635.1           1\n",
       "142  659485.1           1\n",
       "143  656115.1           1\n",
       "\n",
       "[144 rows x 2 columns]"
      ]
     },
     "execution_count": 10,
     "metadata": {},
     "output_type": "execute_result"
    }
   ],
   "source": [
    "pred_df = pd.DataFrame(pred_labels, columns=['strain', 'resistance'])\n",
    "pred_df"
   ]
  },
  {
   "cell_type": "markdown",
   "metadata": {},
   "source": [
    "### Train Models"
   ]
  },
  {
   "cell_type": "code",
   "execution_count": 23,
   "metadata": {},
   "outputs": [],
   "source": [
    "# can change model here depending on what we want to use\n",
    "from sklearn.linear_model import LogisticRegressionCV\n",
    "clf = LogisticRegressionCV(cv=5, penalty='l1', solver='liblinear')\n",
    "clf.fit(coo.transpose(), pred_df['resistance'])\n",
    "scores = abs(clf.coef_[0])"
   ]
  },
  {
   "cell_type": "code",
   "execution_count": 32,
   "metadata": {},
   "outputs": [],
   "source": [
    "kmer_idx = data['kmer_idx']\n",
    "kmers = list(kmer_idx.keys())"
   ]
  },
  {
   "cell_type": "code",
   "execution_count": 53,
   "metadata": {},
   "outputs": [
    {
     "data": {
      "text/html": [
       "<div>\n",
       "<style scoped>\n",
       "    .dataframe tbody tr th:only-of-type {\n",
       "        vertical-align: middle;\n",
       "    }\n",
       "\n",
       "    .dataframe tbody tr th {\n",
       "        vertical-align: top;\n",
       "    }\n",
       "\n",
       "    .dataframe thead th {\n",
       "        text-align: right;\n",
       "    }\n",
       "</style>\n",
       "<table border=\"1\" class=\"dataframe\">\n",
       "  <thead>\n",
       "    <tr style=\"text-align: right;\">\n",
       "      <th></th>\n",
       "      <th>kmer</th>\n",
       "      <th>idx</th>\n",
       "      <th>score</th>\n",
       "    </tr>\n",
       "  </thead>\n",
       "  <tbody>\n",
       "    <tr>\n",
       "      <td>0</td>\n",
       "      <td>AAAATACGAGCTCGCTCTTTACGCTGAGCTT</td>\n",
       "      <td>0</td>\n",
       "      <td>0.0</td>\n",
       "    </tr>\n",
       "    <tr>\n",
       "      <td>1</td>\n",
       "      <td>AAAATCATCGCCCACACAGCTCTCGCGGAGG</td>\n",
       "      <td>1</td>\n",
       "      <td>0.0</td>\n",
       "    </tr>\n",
       "    <tr>\n",
       "      <td>2</td>\n",
       "      <td>AAAAGGCGGCACCAACGGCAACGGCGGCAGC</td>\n",
       "      <td>2</td>\n",
       "      <td>0.0</td>\n",
       "    </tr>\n",
       "    <tr>\n",
       "      <td>3</td>\n",
       "      <td>AAACCGGCGAAGCCGCCGGTGCCGCCGTTGC</td>\n",
       "      <td>3</td>\n",
       "      <td>0.0</td>\n",
       "    </tr>\n",
       "    <tr>\n",
       "      <td>4</td>\n",
       "      <td>AAACGCCGTTCCTGGACCTCACCCTCACCGG</td>\n",
       "      <td>4</td>\n",
       "      <td>0.0</td>\n",
       "    </tr>\n",
       "    <tr>\n",
       "      <td>...</td>\n",
       "      <td>...</td>\n",
       "      <td>...</td>\n",
       "      <td>...</td>\n",
       "    </tr>\n",
       "    <tr>\n",
       "      <td>263448</td>\n",
       "      <td>CCGCTAGCCCCGCAGTTGACCGCCACCGCCA</td>\n",
       "      <td>263448</td>\n",
       "      <td>0.0</td>\n",
       "    </tr>\n",
       "    <tr>\n",
       "      <td>263449</td>\n",
       "      <td>CTAGCCCCGCAGTTGACCGCCACCGCCACCG</td>\n",
       "      <td>263449</td>\n",
       "      <td>0.0</td>\n",
       "    </tr>\n",
       "    <tr>\n",
       "      <td>263450</td>\n",
       "      <td>CGCTAGCCCCGCAGTTGACCGCCACCGCCAC</td>\n",
       "      <td>263450</td>\n",
       "      <td>0.0</td>\n",
       "    </tr>\n",
       "    <tr>\n",
       "      <td>263451</td>\n",
       "      <td>TAGCCCCGCAGTTGACCGCCACCGCCACCGC</td>\n",
       "      <td>263451</td>\n",
       "      <td>0.0</td>\n",
       "    </tr>\n",
       "    <tr>\n",
       "      <td>263452</td>\n",
       "      <td>GCTAGCCCCGCAGTTGACCGCCACCGCCACC</td>\n",
       "      <td>263452</td>\n",
       "      <td>0.0</td>\n",
       "    </tr>\n",
       "  </tbody>\n",
       "</table>\n",
       "<p>263453 rows × 3 columns</p>\n",
       "</div>"
      ],
      "text/plain": [
       "                                   kmer     idx  score\n",
       "0       AAAATACGAGCTCGCTCTTTACGCTGAGCTT       0    0.0\n",
       "1       AAAATCATCGCCCACACAGCTCTCGCGGAGG       1    0.0\n",
       "2       AAAAGGCGGCACCAACGGCAACGGCGGCAGC       2    0.0\n",
       "3       AAACCGGCGAAGCCGCCGGTGCCGCCGTTGC       3    0.0\n",
       "4       AAACGCCGTTCCTGGACCTCACCCTCACCGG       4    0.0\n",
       "...                                 ...     ...    ...\n",
       "263448  CCGCTAGCCCCGCAGTTGACCGCCACCGCCA  263448    0.0\n",
       "263449  CTAGCCCCGCAGTTGACCGCCACCGCCACCG  263449    0.0\n",
       "263450  CGCTAGCCCCGCAGTTGACCGCCACCGCCAC  263450    0.0\n",
       "263451  TAGCCCCGCAGTTGACCGCCACCGCCACCGC  263451    0.0\n",
       "263452  GCTAGCCCCGCAGTTGACCGCCACCGCCACC  263452    0.0\n",
       "\n",
       "[263453 rows x 3 columns]"
      ]
     },
     "execution_count": 53,
     "metadata": {},
     "output_type": "execute_result"
    }
   ],
   "source": [
    "results = []\n",
    "for i in range(len(kmers)):\n",
    "    key = kmers[i]\n",
    "    idx = kmer_idx[key]\n",
    "    score = scores[i]\n",
    "    results.append((key, idx, score))\n",
    "\n",
    "results_df = pd.DataFrame(results, columns=['kmer', 'idx', 'score'])\n",
    "results_df"
   ]
  },
  {
   "cell_type": "code",
   "execution_count": 54,
   "metadata": {},
   "outputs": [],
   "source": [
    "results_df.to_csv('prediction.csv')"
   ]
  },
  {
   "cell_type": "markdown",
   "metadata": {},
   "source": [
    "### In Function Form"
   ]
  },
  {
   "cell_type": "code",
   "execution_count": 15,
   "metadata": {},
   "outputs": [],
   "source": [
    "import random\n",
    "from sklearn.linear_model import LogisticRegressionCV\n",
    "def classifier(X, y, randomise=False, save_filename=None, cv=5, penalty='l1'):\n",
    "    # randomisation, if required\n",
    "    if randomise:\n",
    "        y = random.shuffle(y)\n",
    "    # fit model\n",
    "    clf = LogisticRegressionCV(cv=cv, penalty=penalty, solver='liblinear')\n",
    "    clf.fit(X, y)\n",
    "    scores = abs(clf.coef_[0])\n",
    "    # create dataset\n",
    "    kmer_idx = data['kmer_idx']\n",
    "    kmers = list(kmer_idx.keys())\n",
    "    results = []\n",
    "    for i in range(len(kmers)):\n",
    "        key = kmers[i]\n",
    "        idx = kmer_idx[key]\n",
    "        score = scores[i]\n",
    "        results.append((key, idx, score))\n",
    "\n",
    "    results_df = pd.DataFrame(results, columns=['kmer', 'idx', 'score'])\n",
    "    if save_filename is not None:\n",
    "        results_df.to_csv(save_filename)\n",
    "    return results_df"
   ]
  },
  {
   "cell_type": "code",
   "execution_count": 16,
   "metadata": {},
   "outputs": [
    {
     "data": {
      "text/html": [
       "<div>\n",
       "<style scoped>\n",
       "    .dataframe tbody tr th:only-of-type {\n",
       "        vertical-align: middle;\n",
       "    }\n",
       "\n",
       "    .dataframe tbody tr th {\n",
       "        vertical-align: top;\n",
       "    }\n",
       "\n",
       "    .dataframe thead th {\n",
       "        text-align: right;\n",
       "    }\n",
       "</style>\n",
       "<table border=\"1\" class=\"dataframe\">\n",
       "  <thead>\n",
       "    <tr style=\"text-align: right;\">\n",
       "      <th></th>\n",
       "      <th>kmer</th>\n",
       "      <th>idx</th>\n",
       "      <th>score</th>\n",
       "    </tr>\n",
       "  </thead>\n",
       "  <tbody>\n",
       "    <tr>\n",
       "      <td>0</td>\n",
       "      <td>AAAATACGAGCTCGCTCTTTACGCTGAGCTT</td>\n",
       "      <td>0</td>\n",
       "      <td>0.0</td>\n",
       "    </tr>\n",
       "    <tr>\n",
       "      <td>1</td>\n",
       "      <td>AAAATCATCGCCCACACAGCTCTCGCGGAGG</td>\n",
       "      <td>1</td>\n",
       "      <td>0.0</td>\n",
       "    </tr>\n",
       "    <tr>\n",
       "      <td>2</td>\n",
       "      <td>AAAAGGCGGCACCAACGGCAACGGCGGCAGC</td>\n",
       "      <td>2</td>\n",
       "      <td>0.0</td>\n",
       "    </tr>\n",
       "    <tr>\n",
       "      <td>3</td>\n",
       "      <td>AAACCGGCGAAGCCGCCGGTGCCGCCGTTGC</td>\n",
       "      <td>3</td>\n",
       "      <td>0.0</td>\n",
       "    </tr>\n",
       "    <tr>\n",
       "      <td>4</td>\n",
       "      <td>AAACGCCGTTCCTGGACCTCACCCTCACCGG</td>\n",
       "      <td>4</td>\n",
       "      <td>0.0</td>\n",
       "    </tr>\n",
       "    <tr>\n",
       "      <td>...</td>\n",
       "      <td>...</td>\n",
       "      <td>...</td>\n",
       "      <td>...</td>\n",
       "    </tr>\n",
       "    <tr>\n",
       "      <td>263448</td>\n",
       "      <td>CCGCTAGCCCCGCAGTTGACCGCCACCGCCA</td>\n",
       "      <td>263448</td>\n",
       "      <td>0.0</td>\n",
       "    </tr>\n",
       "    <tr>\n",
       "      <td>263449</td>\n",
       "      <td>CTAGCCCCGCAGTTGACCGCCACCGCCACCG</td>\n",
       "      <td>263449</td>\n",
       "      <td>0.0</td>\n",
       "    </tr>\n",
       "    <tr>\n",
       "      <td>263450</td>\n",
       "      <td>CGCTAGCCCCGCAGTTGACCGCCACCGCCAC</td>\n",
       "      <td>263450</td>\n",
       "      <td>0.0</td>\n",
       "    </tr>\n",
       "    <tr>\n",
       "      <td>263451</td>\n",
       "      <td>TAGCCCCGCAGTTGACCGCCACCGCCACCGC</td>\n",
       "      <td>263451</td>\n",
       "      <td>0.0</td>\n",
       "    </tr>\n",
       "    <tr>\n",
       "      <td>263452</td>\n",
       "      <td>GCTAGCCCCGCAGTTGACCGCCACCGCCACC</td>\n",
       "      <td>263452</td>\n",
       "      <td>0.0</td>\n",
       "    </tr>\n",
       "  </tbody>\n",
       "</table>\n",
       "<p>263453 rows × 3 columns</p>\n",
       "</div>"
      ],
      "text/plain": [
       "                                   kmer     idx  score\n",
       "0       AAAATACGAGCTCGCTCTTTACGCTGAGCTT       0    0.0\n",
       "1       AAAATCATCGCCCACACAGCTCTCGCGGAGG       1    0.0\n",
       "2       AAAAGGCGGCACCAACGGCAACGGCGGCAGC       2    0.0\n",
       "3       AAACCGGCGAAGCCGCCGGTGCCGCCGTTGC       3    0.0\n",
       "4       AAACGCCGTTCCTGGACCTCACCCTCACCGG       4    0.0\n",
       "...                                 ...     ...    ...\n",
       "263448  CCGCTAGCCCCGCAGTTGACCGCCACCGCCA  263448    0.0\n",
       "263449  CTAGCCCCGCAGTTGACCGCCACCGCCACCG  263449    0.0\n",
       "263450  CGCTAGCCCCGCAGTTGACCGCCACCGCCAC  263450    0.0\n",
       "263451  TAGCCCCGCAGTTGACCGCCACCGCCACCGC  263451    0.0\n",
       "263452  GCTAGCCCCGCAGTTGACCGCCACCGCCACC  263452    0.0\n",
       "\n",
       "[263453 rows x 3 columns]"
      ]
     },
     "execution_count": 16,
     "metadata": {},
     "output_type": "execute_result"
    }
   ],
   "source": [
    "X = coo.transpose()\n",
    "y =  pred_df['resistance']\n",
    "classifier(X, y)"
   ]
  },
  {
   "cell_type": "code",
   "execution_count": null,
   "metadata": {},
   "outputs": [],
   "source": []
  }
 ],
 "metadata": {
  "kernelspec": {
   "display_name": "Python 3",
   "language": "python",
   "name": "python3"
  },
  "language_info": {
   "codemirror_mode": {
    "name": "ipython",
    "version": 3
   },
   "file_extension": ".py",
   "mimetype": "text/x-python",
   "name": "python",
   "nbconvert_exporter": "python",
   "pygments_lexer": "ipython3",
   "version": "3.7.3"
  }
 },
 "nbformat": 4,
 "nbformat_minor": 2
}
