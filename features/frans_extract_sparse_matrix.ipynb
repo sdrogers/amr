{
 "cells": [
  {
   "cell_type": "markdown",
   "metadata": {},
   "source": [
    "## Create k-mer matrix using a coordinadte sparse matrix\n",
    "This was the only way I could work how to do this without defining the size of the matric before I knew how many unique kmers there are.  \n",
    "The text files from dsk are in data_dir.\n",
    "\n",
    "Presence/absence matrix. ones being stored as int64 - should probably change this to compress the data. - now int8 "
   ]
  },
  {
   "cell_type": "code",
   "execution_count": 5,
   "metadata": {},
   "outputs": [],
   "source": [
    "import numpy as np\n",
    "from pathlib import Path\n",
    "import pandas as pd\n",
    "import glob\n",
    "import os\n",
    "import pickle\n",
    "from scipy.sparse import coo_matrix\n",
    "from scipy.sparse import csr_matrix\n",
    "import gzip"
   ]
  },
  {
   "cell_type": "markdown",
   "metadata": {},
   "source": [
    "### Load k-mers from DSK output"
   ]
  },
  {
   "cell_type": "markdown",
   "metadata": {},
   "source": [
    "Point this to the folder containing all the .txt files"
   ]
  },
  {
   "cell_type": "code",
   "execution_count": 6,
   "metadata": {},
   "outputs": [
    {
     "name": "stdout",
     "output_type": "stream",
     "text": [
      "1494 kmers/GCF_000195955.2_ASM19595v2_genomic.txt\n"
     ]
    }
   ],
   "source": [
    "data_dir = 'kmers/'\n",
    "filenames = sorted(glob.glob(os.path.join(data_dir, '*.txt')))\n",
    "print (len(filenames), filenames[0])"
   ]
  },
  {
   "cell_type": "code",
   "execution_count": 3,
   "metadata": {},
   "outputs": [
    {
     "data": {
      "text/plain": [
       "'kmers/GCF_000195955.2_ASM19595v2_genomic.txt'"
      ]
     },
     "execution_count": 3,
     "metadata": {},
     "output_type": "execute_result"
    }
   ],
   "source": [
    "filenames[0]"
   ]
  },
  {
   "cell_type": "code",
   "execution_count": null,
   "metadata": {},
   "outputs": [],
   "source": [
    "boolarr = np.array([[0, 0, 1], [1, 0, 1], [1, 0, 1]], dtype=np.bool)\n",
    "np.sum(boolarr, axis=0)\n",
    "datas = np.ones(10, dtype=np.bool)\n",
    "datas"
   ]
  },
  {
   "cell_type": "code",
   "execution_count": 7,
   "metadata": {},
   "outputs": [],
   "source": [
    "def extract_X (filenames):\n",
    "\n",
    "    strain_index = {} # {strain:i}\n",
    "    kmer_index = {}   # {kmer:j}\n",
    "    kmer_count =0     # keeps track of total number of kmers \n",
    "\n",
    "    row = []\n",
    "    col = []\n",
    "    data = []\n",
    "    for i,filename in enumerate(filenames):\n",
    "        if i % 50 == 0:\n",
    "            print(f'{i+1} of {len(filenames)}  {filename}')\n",
    "        df = pd.read_csv (filename, header=None, sep=' ')\n",
    "        strain = Path(filename).stem.split('_')[1]\n",
    "        strain_index[strain] = i\n",
    "        kmers = list(df[df.columns[0]])\n",
    "        for kmer in kmers:\n",
    "            try:\n",
    "                j  = kmer_index[kmer]\n",
    "            except KeyError:\n",
    "                j = kmer_count\n",
    "                kmer_count += 1\n",
    "                kmer_index [kmer] = j\n",
    "            row.append(i)\n",
    "            col.append(j)\n",
    "            #data.append(1)\n",
    "\n",
    "\n",
    "    rows  = np.array(row)\n",
    "    cols  = np.array(col)\n",
    "    datas = np.ones(len(rows), dtype=np.bool) #np.dtype('>i1')\n",
    "    \n",
    "    M = len(strain_index)\n",
    "    N = len(kmer_index)\n",
    "    print('data extracted', M,N)\n",
    "    X = coo_matrix((datas,(rows,cols)), shape=(M,N))\n",
    "    return  strain_index, kmer_index, X"
   ]
  },
  {
   "cell_type": "code",
   "execution_count": null,
   "metadata": {},
   "outputs": [
    {
     "name": "stdout",
     "output_type": "stream",
     "text": [
      "1 of 1494  kmers/GCF_000195955.2_ASM19595v2_genomic.txt\n",
      "51 of 1494  kmers/GCF_000649875.1_Myco_tube_MD19964_V1_genomic.txt\n",
      "151 of 1494  kmers/GCF_000652215.1_Myco_tube_TKK_03_0118_V1_genomic.txt\n",
      "201 of 1494  kmers/GCF_000653375.1_Myco_tube_TKK_05SA_0010_V1_genomic.txt\n",
      "251 of 1494  kmers/GCF_000654515.1_Myco_tube_M1021_V1_genomic.txt\n",
      "301 of 1494  kmers/GCF_000655535.1_Myco_tube_XTB13-208_V1_genomic.txt\n",
      "351 of 1494  kmers/GCF_000656575.1_Myco_tube_UT0098_V1_genomic.txt\n",
      "401 of 1494  kmers/GCF_000657615.1_Myco_tube_NRITLD33_V1_genomic.txt\n",
      "451 of 1494  kmers/GCF_000658925.1_Myco_tube_BTB10-258_V1_genomic.txt\n"
     ]
    }
   ],
   "source": [
    "%%time\n",
    "strains,kmer_index, S_coo = extract_X (filenames)\n",
    "S_coo"
   ]
  },
  {
   "cell_type": "markdown",
   "metadata": {},
   "source": [
    "### Convert to csr for machine learning"
   ]
  },
  {
   "cell_type": "code",
   "execution_count": null,
   "metadata": {},
   "outputs": [],
   "source": [
    "X = csr_matrix(S_coo)\n",
    "X.data.nbytes"
   ]
  },
  {
   "cell_type": "code",
   "execution_count": 4,
   "metadata": {},
   "outputs": [
    {
     "name": "stdout",
     "output_type": "stream",
     "text": [
      "dsk_test.ipynb\t\t\t   svm_DNA31.ipynb\n",
      "Example_extract_kmers.ipynb\t   TB_extract2sparse.ipynb\n",
      "example.txt.bz2\t\t\t   tbmetafiles\n",
      "extract_matrix.ipynb\t\t   tbmetafiles.txt\n",
      "features.pkl\t\t\t   test_kmer.ipynb\n",
      "finding_kmers.ipynb\t\t   test_stringkenal.ipynb\n",
      "frans_extract_sparse_matrix.ipynb  txt_archive\n",
      "frans_svm.ipynb\t\t\t   X_all_20_1470.bz2\n",
      "gpk.py\t\t\t\t   X_all_50_1450.bz2\n",
      "kmers\t\t\t\t   X_meta_all_20_1470.bz2\n",
      "labels.pkl\t\t\t   X_meta_all_50_1450.bz2\n",
      "PATRIC_genome_sequence.fasta\t   X_meta_pyrazinamide_5_140.bz2\n",
      "ReadX.ipynb\t\t\t   X_pyrazinamide_5_140.bz2\n",
      "stringkernel.py\t\t\t   X_rifampin_20_1470.bz2\n"
     ]
    }
   ],
   "source": [
    "!ls\n"
   ]
  },
  {
   "cell_type": "code",
   "execution_count": 10,
   "metadata": {},
   "outputs": [
    {
     "data": {
      "text/plain": [
       "(1494, 7896888)"
      ]
     },
     "execution_count": 10,
     "metadata": {},
     "output_type": "execute_result"
    }
   ],
   "source": [
    "np.shape(X)"
   ]
  },
  {
   "cell_type": "markdown",
   "metadata": {},
   "source": [
    "## First filter \n",
    "Just to speed up next steps"
   ]
  },
  {
   "cell_type": "code",
   "execution_count": 35,
   "metadata": {},
   "outputs": [
    {
     "name": "stdout",
     "output_type": "stream",
     "text": [
      "(1494, 690051) 690051\n"
     ]
    }
   ],
   "source": [
    "minimum = 20\n",
    "maximum = 1470\n",
    "\n",
    "Z =np.sum(X, axis=0)\n",
    "keep = np.where((np.logical_and(Z>=minimum, Z<=maximum)))\n",
    "ind =(keep[1].tolist())\n",
    "X_1 = X[:,ind]\n",
    "\n",
    "#  Update kmer_index to match filtered X\n",
    "\n",
    "index2kmers = {v:k for k,v in kmer_index.items()}\n",
    "filtered_1_kmers = {index2kmers[index]:i for  i,index in enumerate (ind)}\n",
    "\n",
    "print(X_1.shape,len(filtered_1_kmers))\n"
   ]
  },
  {
   "cell_type": "code",
   "execution_count": 40,
   "metadata": {},
   "outputs": [
    {
     "data": {
      "text/plain": [
       "1470"
      ]
     },
     "execution_count": 40,
     "metadata": {},
     "output_type": "execute_result"
    }
   ],
   "source": [
    "np.max(Z[keep])"
   ]
  },
  {
   "cell_type": "code",
   "execution_count": null,
   "metadata": {},
   "outputs": [
    {
     "name": "stdout",
     "output_type": "stream",
     "text": [
      "32256\n"
     ]
    }
   ],
   "source": [
    "import bz2\n",
    "import os\n",
    "\n",
    "# Output X and y  \n",
    "ab = 'all'\n",
    "fileout1 = f'X_{ab}_{minimum}_{maximum}.bz2'\n",
    "fileout2 = f'X_meta_{ab}_{minimum}_{maximum}.bz2'\n",
    "output1 = bz2.BZ2File(fileout1, 'wb', compresslevel=5)\n",
    "try:\n",
    "    pickle.dump(X_1,output1)\n",
    "finally:\n",
    "    output1.close()\n",
    "\n",
    "print(os.system(fileout1))\n",
    "\n",
    "\n",
    "data = ({'antibiotic':ab,'strain index': strains,'kmer_index':filtered_1_kmers})\n",
    "output2 = bz2.BZ2File(fileout2, 'wb', compresslevel=5)\n",
    "try:\n",
    "    pickle.dump(data,output2)\n",
    "finally:\n",
    "    output2.close()\n",
    "\n",
    "os.system(fileout2)"
   ]
  },
  {
   "cell_type": "markdown",
   "metadata": {},
   "source": [
    "##  Filter on antibiotic datasets \n",
    "In TBmetadata"
   ]
  },
  {
   "cell_type": "code",
   "execution_count": 11,
   "metadata": {},
   "outputs": [
    {
     "name": "stdout",
     "output_type": "stream",
     "text": [
      "pyrazinamide 144\n",
      "isoniazid 1427\n",
      "rifampin 1461\n",
      "ethambutol 1198\n"
     ]
    }
   ],
   "source": [
    "#amr/TBmetadata/isoniazid.csv\n",
    "antibiotics = ['pyrazinamide','isoniazid','rifampin','ethambutol']\n",
    "for ab in antibiotics:\n",
    "    \n",
    "#ab = antibiotics[3]\n",
    "    mdata = pd.read_csv(f'../TBmetadata/{ab}.csv')\n",
    "    print(ab, len(mdata))\n",
    "#     TB = (list(mdata[mdata.columns[0]]))\n",
    "#     y = list(mdata[mdata.columns[2]])\n",
    "#     TB = ['000'+str(b) for b in TB]\n"
   ]
  },
  {
   "cell_type": "code",
   "execution_count": null,
   "metadata": {},
   "outputs": [],
   "source": [
    "#  Filter for stains in AMR dataset \n",
    "keep_strains = [i for strain,i in strains.items() if strain in TB]\n",
    "X_filt = X[keep_strains, :]\n",
    "\n",
    "index2strains = {v:k for k,v in strains.items()}\n",
    "filtered_strains = {index2strains[index]:i for  i,index in enumerate (keep_strains)}\n"
   ]
  },
  {
   "cell_type": "markdown",
   "metadata": {},
   "source": [
    "### Filter kmers on min and max number of genomes they occur in.\n",
    "Because this is presense/absense then the sum of each column is the number of genomes each kmer is present in.\n"
   ]
  },
  {
   "cell_type": "code",
   "execution_count": null,
   "metadata": {},
   "outputs": [],
   "source": [
    "minimum = 20  # should change this for small dataset - pyrazinamide\n",
    "maximum = 1470\n",
    "\n",
    "Z =np.sum(X_filt, axis=0)\n",
    "keep = np.where((np.logical_and(Z>=minimum, Z<=maximum)))\n",
    "ind =(keep[1].tolist())\n",
    "X_filt_2way = X_filt[:,ind]\n",
    "\n",
    "#  Update kmer_index to match filtered X\n",
    "\n",
    "index2kmers = {v:k for k,v in kmer_index.items()}\n",
    "filtered_kmers = {index2kmers[index]:i for  i,index in enumerate (ind)}\n",
    "\n",
    "fileout = f'X_{ab}_{minimum}_{maximum}.bz2'\n",
    "print(f'Filename: {fileout}, antibiotic {ab}, X.shape  {X_filt_2way.shape},No of kmers {len(filtered_kmers)}')\n",
    "\n",
    "\n"
   ]
  },
  {
   "cell_type": "code",
   "execution_count": null,
   "metadata": {},
   "outputs": [],
   "source": [
    "for ab in antibiotics:\n",
    "    \n",
    "    mdata = pd.read_csv(f'../TBmetadata/{ab}.csv')\n",
    "    print(ab, len(mdata))"
   ]
  },
  {
   "cell_type": "code",
   "execution_count": 14,
   "metadata": {},
   "outputs": [
    {
     "name": "stdout",
     "output_type": "stream",
     "text": [
      "pyrazinamide 144\n",
      " Number of strains: 144\n",
      " Number of kmers 350739\n"
     ]
    }
   ],
   "source": [
    "#amr/TBmetadata/isoniazid.csv\n",
    "antibiotics = ['pyrazinamide','isoniazid','rifampin','ethambutol']\n",
    "ab = antibiotics[0]\n",
    "\n",
    "#for ab in antibiotics[1:]:\n",
    "mdata = pd.read_csv(f'../TBmetadata/{ab}.csv')\n",
    "print(ab, len(mdata))\n",
    "TB = (list(mdata[mdata.columns[0]]))\n",
    "#y = list(mdata[mdata.columns[2]])\n",
    "TB = ['000'+str(b) for b in TB]\n",
    "\n",
    "#  filter on strains in dataset\n",
    "keep_strains = [i for strain,i in strains.items() if strain in TB]\n",
    "X_filt = X[keep_strains, :]\n",
    "index2strains = {v:k for k,v in strains.items()}\n",
    "filtered_strains = {index2strains[index]:i for  i,index in enumerate (keep_strains)}\n",
    "\n",
    "print (f' Number of strains: {len(filtered_strains)}')\n",
    "\n",
    "# filter kmers on number of genomes it appears in\n",
    "minimum = 20  # should change this for small dataset - pyrazinamide\n",
    "maximum = 1470\n",
    "\n",
    "if len(TB) < 1000:\n",
    "    minimum = 5\n",
    "    maximum = 140\n",
    "\n",
    "Z =np.sum(X_filt, axis=0)\n",
    "keep = np.where((np.logical_and(Z>=minimum, Z<=maximum)))\n",
    "ind =(keep[1].tolist())\n",
    "X_filt_2way = X_filt[:,ind]\n",
    "\n",
    "#  Update kmer_index to match filtered X\n",
    "index2kmers = {v:k for k,v in kmer_index.items()}\n",
    "filtered_kmers = {index2kmers[index]:i for  i,index in enumerate (ind)}\n",
    "print (f' Number of kmers {len(filtered_kmers)}')\n"
   ]
  },
  {
   "cell_type": "code",
   "execution_count": 28,
   "metadata": {},
   "outputs": [
    {
     "data": {
      "text/plain": [
       "scipy.sparse.csr.csr_matrix"
      ]
     },
     "execution_count": 28,
     "metadata": {},
     "output_type": "execute_result"
    }
   ],
   "source": [
    "type(X_filt_2way)"
   ]
  },
  {
   "cell_type": "code",
   "execution_count": 24,
   "metadata": {},
   "outputs": [],
   "source": [
    "strain_list = [ index2strains[i] for i in range(len(filtered_strains))]\n",
    "kmer_list = [index2kmers[i] for i in range(len(filtered_kmers))]"
   ]
  },
  {
   "cell_type": "code",
   "execution_count": 29,
   "metadata": {},
   "outputs": [],
   "source": [
    "df = pd.DataFrame(data =X_filt_2way.todense(), index = strain_list, columns = kmer_list)"
   ]
  },
  {
   "cell_type": "code",
   "execution_count": 30,
   "metadata": {},
   "outputs": [
    {
     "data": {
      "text/html": [
       "<div>\n",
       "<style scoped>\n",
       "    .dataframe tbody tr th:only-of-type {\n",
       "        vertical-align: middle;\n",
       "    }\n",
       "\n",
       "    .dataframe tbody tr th {\n",
       "        vertical-align: top;\n",
       "    }\n",
       "\n",
       "    .dataframe thead th {\n",
       "        text-align: right;\n",
       "    }\n",
       "</style>\n",
       "<table border=\"1\" class=\"dataframe\">\n",
       "  <thead>\n",
       "    <tr style=\"text-align: right;\">\n",
       "      <th></th>\n",
       "      <th>AAAAAACCCTGCACTTCATCGACAATGCGAT</th>\n",
       "      <th>AAAAAATAAGGCGGCAAAAATATCCCGTCAG</th>\n",
       "      <th>AAAAAAGTCGTCCCAGTGGATGAGAATCACG</th>\n",
       "      <th>AAAAACCCTCGGCCGCAAAAGGCTTGCGAAT</th>\n",
       "      <th>AAAAACCCTGCACTTCATCGACAATGCGATC</th>\n",
       "      <th>AAAAACGAACAACGAGCCCGCCGCGCATTGA</th>\n",
       "      <th>AAAAACGAAGACGTCATCGTGCGAGAGCTCA</th>\n",
       "      <th>AAAAATAAGGCGGCAAAAATATCCCGTCAGA</th>\n",
       "      <th>AAAAATATCCCGTCAGACGGTCACGTCATAC</th>\n",
       "      <th>AAAAATCACGGAAGGCGACTCCACTTTCGAT</th>\n",
       "      <th>...</th>\n",
       "      <th>CGCGCAACACAATCCGATGCCCGTCGAGATC</th>\n",
       "      <th>CGCGCAACGACGTTGTTCCTTAGAGCGTGAC</th>\n",
       "      <th>CGCGCAACGAGCACAAGCGGCACCGCTATGC</th>\n",
       "      <th>CGCGCAATATCGCTATCGGGTTCGTCGGCGC</th>\n",
       "      <th>CGCGCAAGGTCCGGCTGGGCCCATCAGCGAA</th>\n",
       "      <th>CGCGCACACATCCGCTCGGTCACCGCGCGCC</th>\n",
       "      <th>CGCGCACACCTTCCGGTAGATGTCCAGTGTC</th>\n",
       "      <th>CGCGCACACCTTCTGGGACGACATCAAAGCC</th>\n",
       "      <th>CGCGCACCAACGCCTGCTGCGCGACGGCCGC</th>\n",
       "      <th>CGCGCACCACCGCGGTGATCAGGAAATGCGC</th>\n",
       "    </tr>\n",
       "  </thead>\n",
       "  <tbody>\n",
       "    <tr>\n",
       "      <th>000195955.2</th>\n",
       "      <td>True</td>\n",
       "      <td>True</td>\n",
       "      <td>True</td>\n",
       "      <td>True</td>\n",
       "      <td>False</td>\n",
       "      <td>True</td>\n",
       "      <td>True</td>\n",
       "      <td>True</td>\n",
       "      <td>False</td>\n",
       "      <td>True</td>\n",
       "      <td>...</td>\n",
       "      <td>False</td>\n",
       "      <td>False</td>\n",
       "      <td>False</td>\n",
       "      <td>False</td>\n",
       "      <td>False</td>\n",
       "      <td>False</td>\n",
       "      <td>False</td>\n",
       "      <td>False</td>\n",
       "      <td>False</td>\n",
       "      <td>False</td>\n",
       "    </tr>\n",
       "    <tr>\n",
       "      <th>000240245.1</th>\n",
       "      <td>True</td>\n",
       "      <td>True</td>\n",
       "      <td>True</td>\n",
       "      <td>False</td>\n",
       "      <td>True</td>\n",
       "      <td>True</td>\n",
       "      <td>True</td>\n",
       "      <td>False</td>\n",
       "      <td>True</td>\n",
       "      <td>True</td>\n",
       "      <td>...</td>\n",
       "      <td>False</td>\n",
       "      <td>False</td>\n",
       "      <td>False</td>\n",
       "      <td>False</td>\n",
       "      <td>False</td>\n",
       "      <td>False</td>\n",
       "      <td>False</td>\n",
       "      <td>False</td>\n",
       "      <td>False</td>\n",
       "      <td>False</td>\n",
       "    </tr>\n",
       "    <tr>\n",
       "      <th>000240265.1</th>\n",
       "      <td>True</td>\n",
       "      <td>True</td>\n",
       "      <td>True</td>\n",
       "      <td>True</td>\n",
       "      <td>True</td>\n",
       "      <td>True</td>\n",
       "      <td>True</td>\n",
       "      <td>True</td>\n",
       "      <td>True</td>\n",
       "      <td>True</td>\n",
       "      <td>...</td>\n",
       "      <td>False</td>\n",
       "      <td>False</td>\n",
       "      <td>False</td>\n",
       "      <td>False</td>\n",
       "      <td>False</td>\n",
       "      <td>False</td>\n",
       "      <td>False</td>\n",
       "      <td>False</td>\n",
       "      <td>False</td>\n",
       "      <td>False</td>\n",
       "    </tr>\n",
       "    <tr>\n",
       "      <th>000240285.1</th>\n",
       "      <td>True</td>\n",
       "      <td>True</td>\n",
       "      <td>True</td>\n",
       "      <td>True</td>\n",
       "      <td>True</td>\n",
       "      <td>True</td>\n",
       "      <td>True</td>\n",
       "      <td>True</td>\n",
       "      <td>True</td>\n",
       "      <td>True</td>\n",
       "      <td>...</td>\n",
       "      <td>False</td>\n",
       "      <td>False</td>\n",
       "      <td>False</td>\n",
       "      <td>False</td>\n",
       "      <td>False</td>\n",
       "      <td>False</td>\n",
       "      <td>False</td>\n",
       "      <td>False</td>\n",
       "      <td>False</td>\n",
       "      <td>False</td>\n",
       "    </tr>\n",
       "    <tr>\n",
       "      <th>000291765.1</th>\n",
       "      <td>True</td>\n",
       "      <td>True</td>\n",
       "      <td>True</td>\n",
       "      <td>False</td>\n",
       "      <td>True</td>\n",
       "      <td>True</td>\n",
       "      <td>True</td>\n",
       "      <td>False</td>\n",
       "      <td>True</td>\n",
       "      <td>True</td>\n",
       "      <td>...</td>\n",
       "      <td>False</td>\n",
       "      <td>False</td>\n",
       "      <td>False</td>\n",
       "      <td>False</td>\n",
       "      <td>False</td>\n",
       "      <td>False</td>\n",
       "      <td>False</td>\n",
       "      <td>False</td>\n",
       "      <td>False</td>\n",
       "      <td>False</td>\n",
       "    </tr>\n",
       "  </tbody>\n",
       "</table>\n",
       "<p>5 rows × 350739 columns</p>\n",
       "</div>"
      ],
      "text/plain": [
       "             AAAAAACCCTGCACTTCATCGACAATGCGAT  AAAAAATAAGGCGGCAAAAATATCCCGTCAG  \\\n",
       "000195955.2                             True                             True   \n",
       "000240245.1                             True                             True   \n",
       "000240265.1                             True                             True   \n",
       "000240285.1                             True                             True   \n",
       "000291765.1                             True                             True   \n",
       "\n",
       "             AAAAAAGTCGTCCCAGTGGATGAGAATCACG  AAAAACCCTCGGCCGCAAAAGGCTTGCGAAT  \\\n",
       "000195955.2                             True                             True   \n",
       "000240245.1                             True                            False   \n",
       "000240265.1                             True                             True   \n",
       "000240285.1                             True                             True   \n",
       "000291765.1                             True                            False   \n",
       "\n",
       "             AAAAACCCTGCACTTCATCGACAATGCGATC  AAAAACGAACAACGAGCCCGCCGCGCATTGA  \\\n",
       "000195955.2                            False                             True   \n",
       "000240245.1                             True                             True   \n",
       "000240265.1                             True                             True   \n",
       "000240285.1                             True                             True   \n",
       "000291765.1                             True                             True   \n",
       "\n",
       "             AAAAACGAAGACGTCATCGTGCGAGAGCTCA  AAAAATAAGGCGGCAAAAATATCCCGTCAGA  \\\n",
       "000195955.2                             True                             True   \n",
       "000240245.1                             True                            False   \n",
       "000240265.1                             True                             True   \n",
       "000240285.1                             True                             True   \n",
       "000291765.1                             True                            False   \n",
       "\n",
       "             AAAAATATCCCGTCAGACGGTCACGTCATAC  AAAAATCACGGAAGGCGACTCCACTTTCGAT  \\\n",
       "000195955.2                            False                             True   \n",
       "000240245.1                             True                             True   \n",
       "000240265.1                             True                             True   \n",
       "000240285.1                             True                             True   \n",
       "000291765.1                             True                             True   \n",
       "\n",
       "             ...  CGCGCAACACAATCCGATGCCCGTCGAGATC  \\\n",
       "000195955.2  ...                            False   \n",
       "000240245.1  ...                            False   \n",
       "000240265.1  ...                            False   \n",
       "000240285.1  ...                            False   \n",
       "000291765.1  ...                            False   \n",
       "\n",
       "             CGCGCAACGACGTTGTTCCTTAGAGCGTGAC  CGCGCAACGAGCACAAGCGGCACCGCTATGC  \\\n",
       "000195955.2                            False                            False   \n",
       "000240245.1                            False                            False   \n",
       "000240265.1                            False                            False   \n",
       "000240285.1                            False                            False   \n",
       "000291765.1                            False                            False   \n",
       "\n",
       "             CGCGCAATATCGCTATCGGGTTCGTCGGCGC  CGCGCAAGGTCCGGCTGGGCCCATCAGCGAA  \\\n",
       "000195955.2                            False                            False   \n",
       "000240245.1                            False                            False   \n",
       "000240265.1                            False                            False   \n",
       "000240285.1                            False                            False   \n",
       "000291765.1                            False                            False   \n",
       "\n",
       "             CGCGCACACATCCGCTCGGTCACCGCGCGCC  CGCGCACACCTTCCGGTAGATGTCCAGTGTC  \\\n",
       "000195955.2                            False                            False   \n",
       "000240245.1                            False                            False   \n",
       "000240265.1                            False                            False   \n",
       "000240285.1                            False                            False   \n",
       "000291765.1                            False                            False   \n",
       "\n",
       "             CGCGCACACCTTCTGGGACGACATCAAAGCC  CGCGCACCAACGCCTGCTGCGCGACGGCCGC  \\\n",
       "000195955.2                            False                            False   \n",
       "000240245.1                            False                            False   \n",
       "000240265.1                            False                            False   \n",
       "000240285.1                            False                            False   \n",
       "000291765.1                            False                            False   \n",
       "\n",
       "             CGCGCACCACCGCGGTGATCAGGAAATGCGC  \n",
       "000195955.2                            False  \n",
       "000240245.1                            False  \n",
       "000240265.1                            False  \n",
       "000240285.1                            False  \n",
       "000291765.1                            False  \n",
       "\n",
       "[5 rows x 350739 columns]"
      ]
     },
     "execution_count": 30,
     "metadata": {},
     "output_type": "execute_result"
    }
   ],
   "source": [
    "df.head()"
   ]
  },
  {
   "cell_type": "code",
   "execution_count": 33,
   "metadata": {},
   "outputs": [
    {
     "name": "stdout",
     "output_type": "stream",
     "text": [
      "Filename: X_df_pyrazinamide_5_140.bbz2 contains  X for antibiotic pyrazinamide, X.shape  (144, 350739),No of kmers 350739\n"
     ]
    }
   ],
   "source": [
    "   \n",
    "# Output X and y  \n",
    "fileout1 = f'X_df_{ab}_{minimum}_{maximum}.bbz2'\n",
    "print(f'Filename: {fileout1} contains  X for antibiotic {ab}, X.shape  {X_filt_2way.shape},No of kmers {len(filtered_kmers)}')\n",
    "\n",
    "# fileout2 = f'X_meta_{ab}_{minimum}_{maximum}.bz2'\n",
    "# print(f'Filename: {fileout2} strain and kmer index and y, Number of strains {len(strains)},No of kmers {len(filtered_kmers)}')\n"
   ]
  },
  {
   "cell_type": "code",
   "execution_count": 35,
   "metadata": {},
   "outputs": [
    {
     "ename": "NameError",
     "evalue": "name 'fileout2' is not defined",
     "output_type": "error",
     "traceback": [
      "\u001b[0;31m---------------------------------------------------------------------------\u001b[0m",
      "\u001b[0;31mNameError\u001b[0m                                 Traceback (most recent call last)",
      "\u001b[0;32m<ipython-input-35-ee0f44a76f02>\u001b[0m in \u001b[0;36m<module>\u001b[0;34m()\u001b[0m\n\u001b[1;32m     21\u001b[0m     \u001b[0moutput\u001b[0m\u001b[0;34m.\u001b[0m\u001b[0mclose\u001b[0m\u001b[0;34m(\u001b[0m\u001b[0;34m)\u001b[0m\u001b[0;34m\u001b[0m\u001b[0m\n\u001b[1;32m     22\u001b[0m \u001b[0;34m\u001b[0m\u001b[0m\n\u001b[0;32m---> 23\u001b[0;31m \u001b[0mos\u001b[0m\u001b[0;34m.\u001b[0m\u001b[0msystem\u001b[0m\u001b[0;34m(\u001b[0m\u001b[0mfileout2\u001b[0m\u001b[0;34m)\u001b[0m\u001b[0;34m\u001b[0m\u001b[0m\n\u001b[0m",
      "\u001b[0;31mNameError\u001b[0m: name 'fileout2' is not defined"
     ]
    }
   ],
   "source": [
    "# import joblib\n",
    "# import os\n",
    "\n",
    "# # Output X and y  \n",
    "# filename = fileout\n",
    "# #with open(filename, 'wb') as fo:  \n",
    "# try:\n",
    "#     joblib.dump(to_persist, filename + '.compressed', compress=True) \n",
    "# finally:\n",
    "#     output.close()\n",
    "\n",
    "# os.system(fileout1)\n",
    "\n",
    "import bz2\n",
    "import os\n",
    "data = {'df':df} #({'antibiotic':ab,'strain index': strains,'kmer_index':kmer_index, 'y':y})\n",
    "output = bz2.BZ2File(fileout1, 'wb', compresslevel=5)\n",
    "try:\n",
    "    pickle.dump(data,output)\n",
    "finally:\n",
    "    output.close()\n",
    "\n",
    "os.system(fileout2)"
   ]
  },
  {
   "cell_type": "code",
   "execution_count": 36,
   "metadata": {},
   "outputs": [
    {
     "name": "stdout",
     "output_type": "stream",
     "text": [
      "total 2.6G\n",
      "-rw-r--r-- 1 youn01f users  35K Oct  4 14:12 dsk_test.ipynb\n",
      "-rw-r--r-- 1 youn01f users 9.5K Jul  3 12:39 Example_extract_kmers.ipynb\n",
      "-rw-r--r-- 1 youn01f users   14 Oct  9 09:46 example.txt.bz2\n",
      "-rw-r--r-- 1 youn01f users 141K Oct  6 12:02 extract_matrix.ipynb\n",
      "-rw-r--r-- 1 youn01f users 817M Aug 22 10:49 features.pkl\n",
      "-rw-r--r-- 1 youn01f users  35K Sep  4 12:31 finding_kmers.ipynb\n",
      "-rw-r--r-- 1 youn01f users  31K Oct 25 13:01 frans_extract_sparse_matrix.ipynb\n",
      "-rw-r--r-- 1 youn01f users  27K Sep  3 22:49 frans_svm.ipynb\n",
      "-rw-r--r-- 1 youn01f users  597 Jul  3 12:39 gpk.py\n",
      "drwxr-xr-x 3 youn01f users 124K Oct  4 18:54 kmers\n",
      "-rw-r--r-- 1 youn01f users 4.6K Aug 22 10:49 labels.pkl\n",
      "-rw-r--r-- 1 youn01f users 9.6M Jul  3 12:39 PATRIC_genome_sequence.fasta\n",
      "-rw-r--r-- 1 youn01f users  12K Oct 18 12:04 ReadX.ipynb\n",
      "-rw-r--r-- 1 youn01f users 5.2K Jul  3 12:39 stringkernel.py\n",
      "-rw-r--r-- 1 youn01f users  91K Sep 20 13:48 svm_DNA31.ipynb\n",
      "-rw-r--r-- 1 youn01f users  16K Oct  2 19:18 TB_extract2sparse.ipynb\n",
      "-rw-r--r-- 1 youn01f users  276 Oct  2 19:17 tbmetafiles\n",
      "-rw-r--r-- 1 youn01f users  276 Oct  2 19:17 tbmetafiles.txt\n",
      "-rw-r--r-- 1 youn01f users  91K Aug 16 12:02 test_kmer.ipynb\n",
      "-rw-r--r-- 1 youn01f users 3.5K Jul  3 12:39 test_stringkenal.ipynb\n",
      "-rw-r--r-- 1 youn01f users 285M Aug 14 14:33 txt_archive\n",
      "-rw-r--r-- 1 youn01f users 808M Oct 15 12:49 X_all_20_1470.bz2\n",
      "-rw-r--r-- 1 youn01f users 620M Oct  9 11:23 X_all_50_1450.bz2\n",
      "-rw-r--r-- 1 youn01f users 7.7M Oct 25 12:59 X_df_pyrazinamide_5_140.bbz2\n",
      "-rw-r--r-- 1 youn01f users 6.0M Oct 15 12:49 X_meta_all_20_1470.bz2\n",
      "-rw-r--r-- 1 youn01f users 4.2M Oct  9 11:23 X_meta_all_50_1450.bz2\n",
      "-rw-r--r-- 1 youn01f users  50M Oct  9 10:03 X_pyrazinamide_5_140.bz2\n",
      "-rw-r--r-- 1 youn01f users   14 Oct  9 10:53 X_rifampin_20_1470.bz2\n"
     ]
    }
   ],
   "source": [
    "!ls -lh"
   ]
  },
  {
   "cell_type": "code",
   "execution_count": null,
   "metadata": {},
   "outputs": [],
   "source": []
  }
 ],
 "metadata": {
  "kernelspec": {
   "display_name": "Python 3",
   "language": "python",
   "name": "python3"
  },
  "language_info": {
   "codemirror_mode": {
    "name": "ipython",
    "version": 3
   },
   "file_extension": ".py",
   "mimetype": "text/x-python",
   "name": "python",
   "nbconvert_exporter": "python",
   "pygments_lexer": "ipython3",
   "version": "3.7.5"
  },
  "varInspector": {
   "cols": {
    "lenName": 16,
    "lenType": 16,
    "lenVar": 40
   },
   "kernels_config": {
    "python": {
     "delete_cmd_postfix": "",
     "delete_cmd_prefix": "del ",
     "library": "var_list.py",
     "varRefreshCmd": "print(var_dic_list())"
    },
    "r": {
     "delete_cmd_postfix": ") ",
     "delete_cmd_prefix": "rm(",
     "library": "var_list.r",
     "varRefreshCmd": "cat(var_dic_list()) "
    }
   },
   "types_to_exclude": [
    "module",
    "function",
    "builtin_function_or_method",
    "instance",
    "_Feature"
   ],
   "window_display": false
  }
 },
 "nbformat": 4,
 "nbformat_minor": 2
}
