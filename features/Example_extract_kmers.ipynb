{
 "cells": [
  {
   "cell_type": "markdown",
   "metadata": {},
   "source": [
    "## Example of extracting kmers from fasta files"
   ]
  },
  {
   "cell_type": "markdown",
   "metadata": {},
   "source": [
    "Not sure format the fasta files will come in.   \n",
    "But have read sequences into a dictionary where the key will be some identifier eg. accesion number "
   ]
  },
  {
   "cell_type": "markdown",
   "metadata": {},
   "source": [
    "I assume we will use  some sort of CVS file with sequence ID and ARM info (label).\n",
    "Then assume that there is equivelent fasta,faa file of CDS and pfs file with domains with same identifier in appropriate folders. ../data/fasta , ../data/faa and ../data/pfs\n",
    "#### Need to do a check for missing sequences before start. "
   ]
  },
  {
   "cell_type": "code",
   "execution_count": 4,
   "metadata": {},
   "outputs": [],
   "source": [
    "%reload_ext autoreload\n",
    "%autoreload 2\n",
    "import pandas as pd\n",
    "import pickle\n",
    "import random\n",
    "import numpy as np\n",
    "from collections import defaultdict, Counter\n",
    "from Bio import SeqIO\n",
    "\n",
    "import sys\n",
    "lib_dir = '../mylibs'\n",
    "if lib_dir not in sys.path:\n",
    "    sys.path.append(lib_dir)\n",
    "    \n",
    "\n"
   ]
  },
  {
   "cell_type": "code",
   "execution_count": 92,
   "metadata": {},
   "outputs": [],
   "source": [
    "def extract_kmers (sequences,k,symbol_dict):\n",
    "    \n",
    "    vocab_len =  symbol_dict['mod'] **k\n",
    "    f_index = fe.get_feature_names(symbol_dict,k)\n",
    "    seq_index = [None]\n",
    "    X = np.zeros((len(sequences) ,vocab_len))\n",
    "    \n",
    "    for i,(accn, seq) in enumerate (sequences.items()):\n",
    "        X[i] = get_word_frequ (seq,k, vocab_len,symbol_dict)\n",
    "        \n",
    "# normalise for length of genome(s)\n",
    "    XN = np.divide(X,X.sum(axis = 1)[:,None])\n",
    "    print (len (seq_index),np.shape(XN))\n",
    "    \n",
    "    return XN,seq_index,f_index\n",
    "    \n",
    "\n",
    "def get_word_frequ(sequence,k,vocab_len,symbol_dict):\n",
    "    \"\"\"returns the word frequency array for all genomes for a virus \"\"\"\n",
    "    word_freqs = np.zeros(shape =(vocab_len),dtype=np.int32)\n",
    "    for i in range(len(sequence)-k+1):\n",
    "        word = sequence[i:i+k]\n",
    "        if check_word(word,symbol_dict):\n",
    "            kmer_index = patternToNumber (word,k, symbol_dict)\n",
    "            word_freqs [ kmer_index] += 1\n",
    "            # If this for DNA/RNA then add the k-mers complinent\n",
    "#             if symbol_dict['mod'] == 4:\n",
    "#                 word_freqs [patternToNumber(compliment(word),k,symbol_dict)] +=1\n",
    "    print(word_freqs)\n",
    "                 \n",
    "    return word_freqs\n",
    "\n",
    "\n",
    "\n",
    "def symbolToNumber (symbol,symbols):\n",
    "    return symbols[symbol]\n",
    "\n",
    "\n",
    "def patternToNumber (pattern,k,symbol_dict):\n",
    "    mod = symbol_dict['mod']\n",
    "    number = 0\n",
    "    for i in range (0,k):\n",
    "        n = symbolToNumber ( pattern [k-1-i],symbol_dict)\n",
    "        number += n* mod**i \n",
    "    return number\n",
    "\n",
    "def get_feature_names(symbols,k):\n",
    "    all_kmers = []\n",
    "    n2sym = { v:k for k,v in symbols.items()}\n",
    "    mod = symbols['mod']\n",
    "    for number in range(mod**k):\n",
    "        pattern = ''\n",
    "        for i in range (0,k):\n",
    "            n = number% mod\n",
    "            number = (number - n)/mod \n",
    "            symbol = n2sym[n]\n",
    "            pattern = symbol + pattern\n",
    "            print (pattern,number,symbol,n)\n",
    "\n",
    "        all_kmers.append (pattern)\n",
    "    return all_kmers\n",
    "\n",
    "\n",
    "\n",
    "def check_word(mystring,symbols):\n",
    "    \"\"\"Check for illegal characters \"\"\"\n",
    "    return all(c in symbols for c in mystring)\n",
    "\n",
    "def compliment(dna):\n",
    "    \"\"\"Return the reverse compliment of a sequence \"\"\"\n",
    "    bp = { 'a':'t', 't':'a', 'c':'g','g':'c'}\n",
    "    revdna =''    \n",
    "    for i in range(len(dna)-1,-1,-1):\n",
    "         revdna += bp[dna[i]]\n",
    "    return (revdna)"
   ]
  },
  {
   "cell_type": "markdown",
   "metadata": {},
   "source": [
    "### Setup functions for extracting features,list of kmer lengths, file paths for fasta/pfs(domain), and the symbol dictionaries\n"
   ]
  },
  {
   "cell_type": "code",
   "execution_count": 94,
   "metadata": {},
   "outputs": [],
   "source": [
    "\n",
    "# Input file with list of reseq ids and labels\n",
    "\n",
    "genome_list = 'bact.csv'\n",
    "\n",
    "# Everthing in the same order as the feature_function list\n",
    "# a list of the functions to be used create the feature matrix\n",
    "\n",
    "features = ['DNA']#,'AA', 'PC', 'Domains']\n",
    "\n",
    "# filepath for the fasta, faa and domain files\n",
    "filepaths = [\n",
    "                '../data/fasta']\n",
    "#                 ,'/home4/youn01f/Desktop/workspace/newData/faa','/home4/youn01f/Desktop/workspace/newData/faa',\n",
    "#                 '/home4/youn01f/Desktop/workspace/newData/pfs',]\n",
    "\n",
    "# A list of kmers lengths for each feature set to be tested\n",
    "kmer_lists = [\n",
    "              [1]]\n",
    "#,2,3,4,]]\n",
    "#     5,6,7,8,9], # dna \n",
    "#               [1,2,3,4], # aa\n",
    "#               [1,2,3,4,5,6] ,    #pc\n",
    "#               [1]] #domains\n",
    "\n",
    "# symbol dictionaries \n",
    "na_dict = {'mod':4,'a':0,'c':1,'g':2,'t':3}\n",
    "aa_dict = {'mod':20 ,'A':0,'C':1,'D':2,'E':3,'F':4,'G':5,'H':6,'I':7,'K':8,'L':9,'M':10,'N':11,\n",
    "              'P':12,'Q':13,'R':14,'S':15,'T':16,'V':17,'W':18,'Y':19}\n",
    "pc_dict = {'mod':7, 'C':0,\n",
    "            'A':1,'G':1,'V':1,\n",
    "           'I':2,'L':2,'F':2,'P':2,\n",
    "           'M':3,'S':3,'T':3,'Y':3,\n",
    "           'H':4,'N':4,'Q':4,'W':4,\n",
    "           'R':5,'K':5,\n",
    "           'D':6,'E':6}\n",
    "symbol_dicts = [\n",
    "                na_dict] \n",
    "#     ,aa_dict,pc_dict, \n",
    "#                 {'mod':1}]\n",
    "\n"
   ]
  },
  {
   "cell_type": "markdown",
   "metadata": {},
   "source": [
    "### Mini test"
   ]
  },
  {
   "cell_type": "code",
   "execution_count": 95,
   "metadata": {},
   "outputs": [
    {
     "name": "stdout",
     "output_type": "stream",
     "text": [
      "[3 2 2 3]\n",
      "[0 0 6 6]\n",
      "1 (2, 4)\n",
      "[[0.3 0.2 0.2 0.3]\n",
      " [0.  0.  0.5 0.5]]\n"
     ]
    }
   ],
   "source": [
    "seqs = {'a': 'actggttaac', 'b': 'ggggggtttttt'}\n",
    "X, seq_index, f_index = extract_kmers (seqs,1,symbol_dict)\n",
    "print (X)"
   ]
  },
  {
   "cell_type": "markdown",
   "metadata": {},
   "source": [
    "### Read fasta file downloaded from Patric"
   ]
  },
  {
   "cell_type": "code",
   "execution_count": 96,
   "metadata": {},
   "outputs": [
    {
     "name": "stdout",
     "output_type": "stream",
     "text": [
      "accn|AUYU01000009 453616\n",
      "accn|AUZB01000012 275568\n",
      "accn|CP019569 14755\n",
      "accn|CP016281 62833\n",
      "accn|CP016090 6123550\n",
      "accn|CP018624 2872664\n",
      "6\n"
     ]
    }
   ],
   "source": [
    "fastafile = '../data/fasta/PATRIC_genome_sequence.fasta'\n",
    "count = 0\n",
    "sequences = {}\n",
    "with open(fastafile, \"r\") as handle:\n",
    "    for record in SeqIO.parse(handle, \"fasta\"):\n",
    "            sequences[record.id]= record.seq\n",
    "            print (record.id, len(record.seq))\n",
    "                   \n",
    "print (len(sequences))"
   ]
  },
  {
   "cell_type": "markdown",
   "metadata": {},
   "source": [
    "### Main Loops \n",
    "Loop over the different features and different k's.  \n",
    "I did this like this because I was running this on multipe datasets.  \n",
    "We Could probally simplify this.  "
   ]
  },
  {
   "cell_type": "code",
   "execution_count": 100,
   "metadata": {},
   "outputs": [
    {
     "name": "stdout",
     "output_type": "stream",
     "text": [
      "Extacting  DNA_features  of length  1  from   6 sequences\n",
      "[141782  80802  48771 182261]\n",
      "[114279  28867  41819  90603]\n",
      "[5012 1980 1885 5878]\n",
      "[20996  9973  7370 24494]\n",
      "[2159590  909743  919261 2134956]\n",
      "[1010166  420812  391597 1050089]\n",
      "1 (6, 4)\n"
     ]
    }
   ],
   "source": [
    "# \n",
    "\n",
    "\n",
    "for index,feature in enumerate(features):\n",
    "    kmers = kmer_lists[index]\n",
    "    symbol_dict = symbol_dicts[index]\n",
    "    for k in kmers:\n",
    "        if feature != 'Domains':\n",
    "            print (f'Extacting  {feature_func.__name__}  of length  {k}  from   {len(sequences)} sequences')\n",
    "            X, seq_index, f_index = extract_kmers (sequences,k,symbol_dict)\n",
    "\n",
    "            \n"
   ]
  },
  {
   "cell_type": "code",
   "execution_count": null,
   "metadata": {},
   "outputs": [],
   "source": []
  }
 ],
 "metadata": {
  "kernelspec": {
   "display_name": "Python 3",
   "language": "python",
   "name": "python3"
  },
  "language_info": {
   "codemirror_mode": {
    "name": "ipython",
    "version": 3
   },
   "file_extension": ".py",
   "mimetype": "text/x-python",
   "name": "python",
   "nbconvert_exporter": "python",
   "pygments_lexer": "ipython3",
   "version": "3.6.3"
  }
 },
 "nbformat": 4,
 "nbformat_minor": 2
}
