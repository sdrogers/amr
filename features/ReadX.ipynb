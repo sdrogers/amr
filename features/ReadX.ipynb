{
 "cells": [
  {
   "cell_type": "code",
   "execution_count": 23,
   "metadata": {},
   "outputs": [],
   "source": [
    "import os\n",
    "import pickle\n",
    "import numpy as np\n",
    "import pandas as pd\n",
    "from scipy.sparse import csr_matrix\n"
   ]
  },
  {
   "cell_type": "markdown",
   "metadata": {},
   "source": [
    "### Read in the X and the X_meta - contains an index for the order of the strains and kmers in the matrix.\n",
    "\n",
    "### X has been filtered see code block below\n",
    "For kmers contained in a minimum of 20 and a maximum of 1470 strains.\n",
    "X is a boolean csr_matrix\n"
   ]
  },
  {
   "cell_type": "code",
   "execution_count": 14,
   "metadata": {},
   "outputs": [
    {
     "name": "stdout",
     "output_type": "stream",
     "text": [
      "32256\n",
      "32256\n"
     ]
    }
   ],
   "source": [
    "# These are the files containing all the strains filter on min/max\n",
    "X_file = 'X_all_20_1470.bz2'\n",
    "meta_file = 'X_meta_all_20_1470.bz2'\n",
    "# The 2 files are for the pyrazinamide dataset which only contains 144 strains so\n",
    "# first filtered to keep strain in this dataset then filtered on min = 5 and max= 140\n",
    "#X_file =  X_pyrazinamide_5_140.bz2 \n",
    "#meta_file = X_meta_pyrazinamide_5_140.bz2\n",
    "\n",
    "\n",
    "input1 = bz2.BZ2File(X_file, 'rb', compresslevel=5)\n",
    "print(os.system(X_file))\n",
    "try:\n",
    "    X = pickle.load(input1)\n",
    "finally:\n",
    "    input1.close()\n",
    "\n",
    "input2 = bz2.BZ2File(meta_file, 'rb', compresslevel=5)\n",
    "try:\n",
    "    meta = pickle.load(input2)\n",
    "finally:\n",
    "    input2.close()\n"
   ]
  },
  {
   "cell_type": "code",
   "execution_count": 20,
   "metadata": {},
   "outputs": [
    {
     "name": "stdout",
     "output_type": "stream",
     "text": [
      "<class 'scipy.sparse.csr.csr_matrix'> (1494, 690051) 690051 all\n",
      "dict_keys(['antibiotic', 'strain index', 'kmer_index'])\n"
     ]
    }
   ],
   "source": [
    "print (type(X) ,np.shape(X),len(meta['kmer_index']), meta['antibiotic'])\n",
    "print (meta.keys())"
   ]
  },
  {
   "cell_type": "markdown",
   "metadata": {},
   "source": [
    "### Files  were saved with this:"
   ]
  },
  {
   "cell_type": "code",
   "execution_count": null,
   "metadata": {},
   "outputs": [
    {
     "name": "stdout",
     "output_type": "stream",
     "text": [
      "32256\n"
     ]
    }
   ],
   "source": [
    "import bz2\n",
    "import os\n",
    "\n",
    "# Output X and y  \n",
    "ab = 'all'\n",
    "fileout1 = f'X_{ab}_{minimum}_{maximum}.bz2'\n",
    "fileout2 = f'X_meta_{ab}_{minimum}_{maximum}.bz2'\n",
    "output1 = bz2.BZ2File(fileout1, 'wb', compresslevel=5)\n",
    "try:\n",
    "    pickle.dump(X_1,output1)\n",
    "finally:\n",
    "    output1.close()\n",
    "\n",
    "print(os.system(fileout1))\n",
    "\n",
    "\n",
    "data = ({'antibiotic':ab,'strain index': strains,'kmer_index':filtered_1_kmers})\n",
    "output2 = bz2.BZ2File(fileout2, 'wb', compresslevel=5)\n",
    "try:\n",
    "    pickle.dump(data,output2)\n",
    "finally:\n",
    "    output2.close()\n",
    "\n",
    "os.system(fileout2)"
   ]
  },
  {
   "cell_type": "markdown",
   "metadata": {},
   "source": [
    "### Filter X on minimum and maximum occurences of kmers"
   ]
  },
  {
   "cell_type": "code",
   "execution_count": null,
   "metadata": {},
   "outputs": [],
   "source": [
    "# Filter original X  \n",
    "minimum = 20\n",
    "maximum = 1470\n",
    "\n",
    "Z =np.sum(X, axis=0)\n",
    "keep = np.where((np.logical_and(Z>=minimum, Z<=maximum)))\n",
    "ind =(keep[1].tolist())\n",
    "X_1 = X[:,ind]\n",
    "\n",
    "#  Update kmer_index to match filtered X\n",
    "\n",
    "index2kmers = {v:k for k,v in kmer_index.items()}\n",
    "filtered_1_kmers = {index2kmers[index]:i for  i,index in enumerate (ind)}\n",
    "\n",
    "print(X_1.shape,len(filtered_1_kmers))\n"
   ]
  },
  {
   "cell_type": "markdown",
   "metadata": {},
   "source": [
    "#### Filtering on strains in the datasets from the metadata files.  \n",
    "Also retrieving the labels, y"
   ]
  },
  {
   "cell_type": "code",
   "execution_count": 26,
   "metadata": {},
   "outputs": [
    {
     "name": "stdout",
     "output_type": "stream",
     "text": [
      "py 144\n",
      " Number of strains: 144\n"
     ]
    }
   ],
   "source": [
    "antibiotics = ['pyrazinamide','isoniazid','rifampin','ethambutol']\n",
    "antibiotic = antibiotics[0]\n",
    "ab = antibiotic[:2]\n",
    "strains = meta['strain index']\n",
    "#for ab in antibiotics[1:]:\n",
    "mdata = pd.read_csv(f'../TBmetadata/{antibiotic}.csv')\n",
    "print(ab, len(mdata))\n",
    "TB = (list(mdata[mdata.columns[0]]))\n",
    "y = list(mdata[mdata.columns[2]])\n",
    "TB = ['000'+str(b) for b in TB]  ## correct as strain id was saved as an int and stripped zeros\n",
    "\n",
    "#  filter on strains in dataset\n",
    "keep_strains = [i for strain,i in strains.items() if strain in TB]\n",
    "X_filt = X[keep_strains, :]\n",
    "index2strains = {v:k for k,v in strains.items()}\n",
    "filtered_strains = {index2strains[index]:i for  i,index in enumerate (keep_strains)}\n",
    "\n",
    "print (f' Number of strains: {len(filtered_strains)}')"
   ]
  }
 ],
 "metadata": {
  "kernelspec": {
   "display_name": "Python 3",
   "language": "python",
   "name": "python3"
  },
  "language_info": {
   "codemirror_mode": {
    "name": "ipython",
    "version": 3
   },
   "file_extension": ".py",
   "mimetype": "text/x-python",
   "name": "python",
   "nbconvert_exporter": "python",
   "pygments_lexer": "ipython3",
   "version": "3.6.3"
  }
 },
 "nbformat": 4,
 "nbformat_minor": 2
}
