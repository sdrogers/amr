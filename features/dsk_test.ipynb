{
 "cells": [
  {
   "cell_type": "markdown",
   "metadata": {},
   "source": [
    "## Running DSK on a directoty of fasta files\n",
    "\n",
    "Running DSK on a directory of fasta files.   \n",
    "Download dsk from https://github.com/GATB/dsk/releases\n"
   ]
  },
  {
   "cell_type": "code",
   "execution_count": 16,
   "metadata": {},
   "outputs": [],
   "source": [
    "import sys\n",
    "import os\n",
    "import glob\n",
    "import subprocess\n",
    "from pathlib import Path"
   ]
  },
  {
   "cell_type": "code",
   "execution_count": null,
   "metadata": {},
   "outputs": [],
   "source": [
    "filenames = glob.glob('../data/*.fna')\n",
    "print (len(filenames))"
   ]
  },
  {
   "cell_type": "markdown",
   "metadata": {},
   "source": [
    "It crashed a couple of times no idea why so just process rmaining files"
   ]
  },
  {
   "cell_type": "code",
   "execution_count": 43,
   "metadata": {},
   "outputs": [
    {
     "name": "stdout",
     "output_type": "stream",
     "text": [
      "393\n",
      "103\n"
     ]
    }
   ],
   "source": [
    "filesleft =[]\n",
    "for fn in filenames: \n",
    "    nameh5 = f'{Path(fn).stem}.h5'\n",
    "    #print (nameh5)\n",
    "    if not  os.path.isfile(nameh5):\n",
    "        filesleft.append(fn)\n",
    "print (len(filesleft))"
   ]
  },
  {
   "cell_type": "code",
   "execution_count": 46,
   "metadata": {},
   "outputs": [],
   "source": [
    "for f in filenames:\n",
    "    subprocess.check_output(f'./../../dsk/dsk-v2.3.0-bin-Linux/bin/dsk -file {f} -kmer-size 21', shell=True) "
   ]
  },
  {
   "cell_type": "markdown",
   "metadata": {},
   "source": [
    "###  Check there is something in the files.\n",
    "I"
   ]
  },
  {
   "cell_type": "code",
   "execution_count": null,
   "metadata": {},
   "outputs": [],
   "source": [
    "import h5py\n",
    "\n",
    "f = h5py.File('485.847.h5','r')\n",
    "\n",
    "for k in f['histogram'].keys():\n",
    "    print (len(k)) "
   ]
  }
 ],
 "metadata": {
  "kernelspec": {
   "display_name": "Python 3",
   "language": "python",
   "name": "python3"
  },
  "language_info": {
   "codemirror_mode": {
    "name": "ipython",
    "version": 3
   },
   "file_extension": ".py",
   "mimetype": "text/x-python",
   "name": "python",
   "nbconvert_exporter": "python",
   "pygments_lexer": "ipython3",
   "version": "3.6.3"
  }
 },
 "nbformat": 4,
 "nbformat_minor": 2
}
