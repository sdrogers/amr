{
 "cells": [
  {
   "cell_type": "markdown",
   "metadata": {},
   "source": [
    "## Running DSK on a directoty of fasta files\n",
    "\n",
    "Running DSK on a directory of fasta files.   \n",
    "Download dsk from https://github.com/GATB/dsk/releases\n",
    "Files were downloaded from patric - Alex's notebook\n"
   ]
  },
  {
   "cell_type": "code",
   "execution_count": 68,
   "metadata": {},
   "outputs": [],
   "source": [
    "import sys\n",
    "import os\n",
    "import glob\n",
    "import subprocess\n",
    "from pathlib import Path"
   ]
  },
  {
   "cell_type": "code",
   "execution_count": 103,
   "metadata": {},
   "outputs": [
    {
     "name": "stdout",
     "output_type": "stream",
     "text": [
      "['../data/485.340.fna', '../data/485.450.fna']\n"
     ]
    }
   ],
   "source": [
    "\n",
    "filenames = glob.glob('../data/*.fna')\n",
    "print ((filenames[:2]))"
   ]
  },
  {
   "cell_type": "code",
   "execution_count": 88,
   "metadata": {},
   "outputs": [
    {
     "name": "stdout",
     "output_type": "stream",
     "text": [
      "dsk  dsk2ascii\tgatb-h5dump\n"
     ]
    }
   ],
   "source": [
    "!ls ./../../../dsk/dsk-v2.3.0-bin-Linux/bin/\n"
   ]
  },
  {
   "cell_type": "markdown",
   "metadata": {},
   "source": [
    "It crashed a couple of times, no idea why, so just processed remaining files"
   ]
  },
  {
   "cell_type": "code",
   "execution_count": 6,
   "metadata": {},
   "outputs": [
    {
     "name": "stdout",
     "output_type": "stream",
     "text": [
      "172\n"
     ]
    }
   ],
   "source": [
    "# filesleft =[]\n",
    "# for fn in filenames: \n",
    "#     nameh5 = f'{Path(fn).stem}.h5'\n",
    "#     #print (nameh5)\n",
    "#     if not  os.path.isfile(nameh5):\n",
    "#         filesleft.append(fn)\n",
    "# print (len(filesleft))"
   ]
  },
  {
   "cell_type": "code",
   "execution_count": 101,
   "metadata": {},
   "outputs": [
    {
     "name": "stdout",
     "output_type": "stream",
     "text": [
      "[DSK: nb solid kmers found : 22525       ]  102  %   elapsed:   0 min 4  sec   remaining:   0 min 0  sec   cpu: 139.1 %   mem: [ 546,  546,  555] MB \n",
      "    config                                  \n",
      "        kmer_size                                : 31\n",
      "        mini_size                                : 10\n",
      "        solidity_kind                            : sum\n",
      "        abundance_min                            : 2\n",
      "        abundance_max                            : 2147483647\n",
      "        available_space                          : 6457890\n",
      "        sequence_number                          : 55\n",
      "        sequence_volume                          : 2\n",
      "        kmers_number                             : 2149455\n",
      "        kmers_volume                             : 16\n",
      "        max_disk_space                           : 6455890\n",
      "        max_memory                               : 5000\n",
      "        nb_passes                                : 1\n",
      "        nb_partitions                            : 120\n",
      "        nb_bits_per_kmer                         : 64\n",
      "        nb_cores                                 : 120\n",
      "        minimizer_type                           : lexicographic (kmc2 heuristic)\n",
      "        repartition_type                         : unordered\n",
      "        nb_cores_per_partition                   : 1\n",
      "        nb_partitions_in_parallel                : 120\n",
      "        nb_cached_items_per_core_per_part        : 8192\n",
      "        nb_banks                                 : 1\n",
      "    dsk                                     \n",
      "        bank                                    \n",
      "            bank_uri                                 : ../data/485.291.fna\n",
      "            bank_size                                : 2190556\n",
      "            bank_total_nt                            : 2151156\n",
      "            sequences                               \n",
      "                seq_number                               : 55\n",
      "                seq_size_min                             : 1057\n",
      "                seq_size_max                             : 207542\n",
      "                seq_size_mean                            : 39111.9\n",
      "                seq_size_deviation                       : 46546.7\n",
      "            kmers                                   \n",
      "                kmers_nb_valid                           : 2149506\n",
      "                kmers_nb_invalid                         : 0\n",
      "        stats                                   \n",
      "            temp_files                              \n",
      "                nb_superkmers                            : 178256\n",
      "                avg_superk_length                        : 12.06\n",
      "                minimizer_density                        : 1.91\n",
      "                total_size_(MB)                          : 1\n",
      "                tmp_file_biggest_(MB)                    : 0\n",
      "                tmp_file_smallest_(MB)                   : 0\n",
      "                tmp_file_mean_(MB)                       : 0.0\n",
      "            histogram                               \n",
      "                cutoff                                   : 2\n",
      "                nb_ge_cutoff                             : 22525\n",
      "                ratio_weak_volume                        : 0.97\n",
      "                first_peak                               : 18\n",
      "            kmers                                   \n",
      "                solidity_kind                            : sum\n",
      "                thresholds                               : 2 \n",
      "                kmers_nb_distinct                        : 2097313\n",
      "                kmers_nb_solid                           : 22525\n",
      "                kmers_nb_weak                            : 2074788\n",
      "                kmers_percent_weak                       : 98.9\n",
      "            partitions                              \n",
      "                nb_partitions                            : 120\n",
      "                nb_items                                 : 22525\n",
      "                part_biggest                             : 374\n",
      "                part_smallest                            : 45\n",
      "                part_mean                                : 187.7\n",
      "                kind                                    \n",
      "                    vector                                   : 120\n",
      "            fillsolid_time                           : 0.052\n",
      "                1.read                                   : 0.044\n",
      "                2.sort                                   : 0.002\n",
      "                3.dump                                   : 0.006\n",
      "        time                                     : 4.457\n",
      "            fill_partitions                          : 4.099\n",
      "            fill_solid_kmers                         : 0.358\n"
     ]
    }
   ],
   "source": [
    "# Test command works\n",
    "!./../../dsk/dsk-v2.3.0-bin-Linux/bin/dsk -file ../data/485.291.fna -kmer-size 31"
   ]
  },
  {
   "cell_type": "code",
   "execution_count": 104,
   "metadata": {},
   "outputs": [
    {
     "name": "stdout",
     "output_type": "stream",
     "text": [
      "../data/485.340.fna\n",
      "../data/485.450.fna\n"
     ]
    }
   ],
   "source": [
    "for f in filenames:\n",
    "    print(f)\n",
    "    subprocess.check_output(f'./../../dsk/dsk-v2.3.0-bin-Linux/bin/dsk -file {f} -kmer-size 31', shell=True) "
   ]
  },
  {
   "cell_type": "markdown",
   "metadata": {},
   "source": [
    "###  Convert .\n"
   ]
  },
  {
   "cell_type": "code",
   "execution_count": 105,
   "metadata": {},
   "outputs": [
    {
     "name": "stdout",
     "output_type": "stream",
     "text": [
      "392\n"
     ]
    }
   ],
   "source": [
    "filenames = glob.glob('kmers/*.h5')\n",
    "print (len(filenames))"
   ]
  },
  {
   "cell_type": "code",
   "execution_count": 106,
   "metadata": {},
   "outputs": [
    {
     "name": "stdout",
     "output_type": "stream",
     "text": [
      "../data/485.450.fna\n",
      "../data/485.450.fna\n"
     ]
    }
   ],
   "source": [
    "for file in filenames[:2]:\n",
    "    fn,ext = os.path.splitext (os.path.basename(file))\n",
    "    print (f)\n",
    "    subprocess.check_output(f'./../../dsk/dsk-v2.3.0-bin-Linux/bin/dsk2ascii -file kmers/{fn}.h5 -out {fn}.txt', shell=True) \n",
    "    "
   ]
  },
  {
   "cell_type": "code",
   "execution_count": null,
   "metadata": {},
   "outputs": [],
   "source": []
  }
 ],
 "metadata": {
  "kernelspec": {
   "display_name": "Python 3",
   "language": "python",
   "name": "python3"
  },
  "language_info": {
   "codemirror_mode": {
    "name": "ipython",
    "version": 3
   },
   "file_extension": ".py",
   "mimetype": "text/x-python",
   "name": "python",
   "nbconvert_exporter": "python",
   "pygments_lexer": "ipython3",
   "version": "3.6.3"
  }
 },
 "nbformat": 4,
 "nbformat_minor": 2
}
