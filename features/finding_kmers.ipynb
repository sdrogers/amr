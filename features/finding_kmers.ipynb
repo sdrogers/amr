{
 "cells": [
  {
   "cell_type": "markdown",
   "metadata": {},
   "source": [
    "## Find the start position of a list of kmers(or regex) in a list of genomes includingon the reverse strand."
   ]
  },
  {
   "cell_type": "code",
   "execution_count": 1,
   "metadata": {},
   "outputs": [],
   "source": [
    "import pickle\n",
    "import glob\n",
    "import re\n",
    "import sys\n",
    "import os\n",
    "import pandas as pd\n",
    "import numpy as np\n",
    "from pathlib import Path\n",
    "from Bio import SeqIO\n",
    "from collections import defaultdict\n",
    "from matplotlib import pyplot as plt \n",
    "%matplotlib inline"
   ]
  },
  {
   "cell_type": "code",
   "execution_count": 2,
   "metadata": {},
   "outputs": [],
   "source": [
    "fasta_path = '/home4/youn01f/Desktop/workspace/amr/data/'\n",
    "features_file = 'features.pkl'"
   ]
  },
  {
   "cell_type": "markdown",
   "metadata": {},
   "source": [
    "### Read sequences from files into a dictionary\n",
    "Key = strain\n",
    "Value = sequence as a string"
   ]
  },
  {
   "cell_type": "code",
   "execution_count": 3,
   "metadata": {},
   "outputs": [],
   "source": [
    "def get_sequences(filenames):\n",
    "    sequences = defaultdict(str)\n",
    "    for filename in filenames:\n",
    "        strain = Path(filename).stem\n",
    "        seq = '' \n",
    "        with open(filename, 'rt') as handle:\n",
    "            for record in SeqIO.parse(handle, \"fasta\"):                   \n",
    "                seq += str(record.seq)\n",
    "        sequences[strain] = seq\n",
    "        #print (strain, len(seq))       \n",
    "    return (sequences)"
   ]
  },
  {
   "cell_type": "code",
   "execution_count": 4,
   "metadata": {},
   "outputs": [],
   "source": [
    "filenames = glob.glob(f'{fasta_path}*.fna')\n",
    "seqs = get_sequences(filenames)"
   ]
  },
  {
   "cell_type": "markdown",
   "metadata": {},
   "source": [
    "Use the feature matrix to select some kmers that we should definitely find"
   ]
  },
  {
   "cell_type": "code",
   "execution_count": 5,
   "metadata": {},
   "outputs": [],
   "source": [
    "features_df = pd.read_pickle(features_file)\n",
    "X =features_df.to_numpy()\n",
    "Z = np.count_nonzero(X, axis=0)\n",
    "ind = np.where(Z==200) # select kmers that are in  200 of the sequences ( random choice)\n",
    "kmers_df = features_df.iloc[:, ind[0]]\n",
    "kmers = kmers_df.columns"
   ]
  },
  {
   "cell_type": "code",
   "execution_count": 6,
   "metadata": {},
   "outputs": [],
   "source": [
    "def compliment(dna):\n",
    "    \"\"\"Return the reverse compliment of a sequence \"\"\"\n",
    "    bp = { 'A':'T', 'T':'A', 'C':'G','G':'C'}\n",
    "    revdna =''    \n",
    "    for i in range(len(dna)-1,-1,-1):\n",
    "         revdna += bp[dna[i]]\n",
    "    return (revdna)\n",
    "\n",
    "def find_all(a_str, sub):\n",
    "    start = 0\n",
    "    while True:\n",
    "        start = a_str.find(sub, start)\n",
    "        if start == -1: return\n",
    "        yield start\n",
    "        start += len(sub) # use start += 1 to find overlapping matches"
   ]
  },
  {
   "cell_type": "markdown",
   "metadata": {},
   "source": [
    "### Using string function in find_all\n",
    "#### Keep positions of the compliment of the kmer in same list(of 2 lists)\n",
    "#### with dataframe to store results"
   ]
  },
  {
   "cell_type": "code",
   "execution_count": 8,
   "metadata": {},
   "outputs": [],
   "source": [
    "index = seqs.keys()\n",
    "kmers = kmers[:20]# only use 20 of them\n",
    "kmer_pos =  pd.DataFrame(index=index, columns=kmers)"
   ]
  },
  {
   "cell_type": "code",
   "execution_count": 9,
   "metadata": {},
   "outputs": [
    {
     "name": "stdout",
     "output_type": "stream",
     "text": [
      "CPU times: user 2min 46s, sys: 826 ms, total: 2min 47s\n",
      "Wall time: 2min 47s\n"
     ]
    }
   ],
   "source": [
    "%%time\n",
    "for strain,s in seqs.items(): \n",
    "    seq = s.upper()\n",
    "    for kmer in kmers:\n",
    "        k_p =[]\n",
    "        #print(strain,kmer)\n",
    "        k_p.append (list(find_all(seq,kmer)))\n",
    "        k_p.append (list(find_all(seq,compliment(kmer))))\n",
    "        kmer_pos.at[strain,kmer] = k_p\n",
    " "
   ]
  },
  {
   "cell_type": "code",
   "execution_count": 10,
   "metadata": {},
   "outputs": [
    {
     "data": {
      "text/html": [
       "<div>\n",
       "<style scoped>\n",
       "    .dataframe tbody tr th:only-of-type {\n",
       "        vertical-align: middle;\n",
       "    }\n",
       "\n",
       "    .dataframe tbody tr th {\n",
       "        vertical-align: top;\n",
       "    }\n",
       "\n",
       "    .dataframe thead th {\n",
       "        text-align: right;\n",
       "    }\n",
       "</style>\n",
       "<table border=\"1\" class=\"dataframe\">\n",
       "  <thead>\n",
       "    <tr style=\"text-align: right;\">\n",
       "      <th>kmer</th>\n",
       "      <th>AAAAAGGGGCTTGCGGAACAGTGTTTATCTT</th>\n",
       "      <th>AAAAGGATGGCTTCGTCATTCCCGCGCAGGC</th>\n",
       "      <th>AAAAGGGGCTTGCGGAACAGTGTTTATCTTT</th>\n",
       "      <th>AAACACTGTTCCGCAAGCCCCTTTTTCAGAC</th>\n",
       "      <th>AAAGGATGGCTTCGTCATTCCCGCGCAGGCG</th>\n",
       "      <th>AAAGGGGCTTGCGGAACAGTGTTTATCTTTG</th>\n",
       "      <th>AACAAAGATAAACACTGTTCCGCAAGCCCCT</th>\n",
       "      <th>AACACTGTTCCGCAAGCCCCTTTTTCAGACC</th>\n",
       "      <th>AACCCGTACCGGTTTTTGTTAATCCGCTATA</th>\n",
       "      <th>AAGCCCCTTTTTCAGACCGCTGGCTAAAAGA</th>\n",
       "      <th>AAGGATGGCTTCGTCATTCCCGCGCAGGCGG</th>\n",
       "      <th>AAGGGGCTTGCGGAACAGTGTTTATCTTTGT</th>\n",
       "      <th>AATGGCGGGTTTTAGGATTACGGTGTATCGG</th>\n",
       "      <th>AATTTACCGGAAAGGAAAAAAATGAAGAAGC</th>\n",
       "      <th>ACACCGTAATCCTAAAACCCGCCATTCCCGC</th>\n",
       "      <th>ACACTGTTCCGCAAGCCCCTTTTTCAGACCG</th>\n",
       "      <th>ACCGTAATCCTAAAACCCGCCATTCCCGCGC</th>\n",
       "      <th>ACTGTTCCGCAAGCCCCTTTTTCAGACCGCT</th>\n",
       "      <th>ACTTCGGCACACCGCCCCGGCAGCTAAAAAT</th>\n",
       "      <th>AGAGAGAGGGCAACAAGCCGCAAGGCTTGTA</th>\n",
       "    </tr>\n",
       "  </thead>\n",
       "  <tbody>\n",
       "    <tr>\n",
       "      <th>485.340</th>\n",
       "      <td>[[], []]</td>\n",
       "      <td>[[2175075, 2177054, 2177605], []]</td>\n",
       "      <td>[[], []]</td>\n",
       "      <td>[[], []]</td>\n",
       "      <td>[[2175076, 2177055, 2177606], []]</td>\n",
       "      <td>[[], []]</td>\n",
       "      <td>[[], []]</td>\n",
       "      <td>[[], []]</td>\n",
       "      <td>[[2108003], [601665, 1268208]]</td>\n",
       "      <td>[[], []]</td>\n",
       "      <td>[[2175077, 2177056, 2177607], []]</td>\n",
       "      <td>[[], []]</td>\n",
       "      <td>[[2145058], [1866519]]</td>\n",
       "      <td>[[], [2163504, 2200047]]</td>\n",
       "      <td>[[1866524], [2145053]]</td>\n",
       "      <td>[[], []]</td>\n",
       "      <td>[[1866526], [2145051]]</td>\n",
       "      <td>[[], []]</td>\n",
       "      <td>[[1544824], [210510, 1359235]]</td>\n",
       "      <td>[[1008483, 2168628, 2168909], []]</td>\n",
       "    </tr>\n",
       "    <tr>\n",
       "      <th>485.450</th>\n",
       "      <td>[[1599061, 2036868, 2108366], [2062266]]</td>\n",
       "      <td>[[], [1543116]]</td>\n",
       "      <td>[[1599062, 2036869, 2108367], [2062265]]</td>\n",
       "      <td>[[2062271], [1599056, 2036863, 2108361]]</td>\n",
       "      <td>[[], [1543115]]</td>\n",
       "      <td>[[1599063, 2036870, 2108368], [2062264]]</td>\n",
       "      <td>[[2062262], [1599065, 2036872, 2108370]]</td>\n",
       "      <td>[[2062272], [1599055, 2036862, 2108360]]</td>\n",
       "      <td>[[1926331, 2080794], []]</td>\n",
       "      <td>[[2062285], [1599042, 2036849, 2108347]]</td>\n",
       "      <td>[[], [1543114]]</td>\n",
       "      <td>[[1599064, 2036871, 2108369], [2062263]]</td>\n",
       "      <td>[[], [1221922]]</td>\n",
       "      <td>[[2046638], []]</td>\n",
       "      <td>[[1221927], []]</td>\n",
       "      <td>[[2062273], [1599054, 2036861, 2108359]]</td>\n",
       "      <td>[[1221929], []]</td>\n",
       "      <td>[[2062275], [1599052, 2036859, 2108357]]</td>\n",
       "      <td>[[525878], [1421311]]</td>\n",
       "      <td>[[], [1834137, 1834698, 1834979]]</td>\n",
       "    </tr>\n",
       "    <tr>\n",
       "      <th>485.728</th>\n",
       "      <td>[[], []]</td>\n",
       "      <td>[[771682, 2018240], []]</td>\n",
       "      <td>[[], []]</td>\n",
       "      <td>[[], []]</td>\n",
       "      <td>[[771683, 2018241], []]</td>\n",
       "      <td>[[], []]</td>\n",
       "      <td>[[], []]</td>\n",
       "      <td>[[], []]</td>\n",
       "      <td>[[], [1552469, 2046373]]</td>\n",
       "      <td>[[], []]</td>\n",
       "      <td>[[771684, 2018242], []]</td>\n",
       "      <td>[[], []]</td>\n",
       "      <td>[[1739566], [1440822]]</td>\n",
       "      <td>[[], [2070391, 2093310]]</td>\n",
       "      <td>[[1440827], [1739561]]</td>\n",
       "      <td>[[], []]</td>\n",
       "      <td>[[1440829], [1739559]]</td>\n",
       "      <td>[[], []]</td>\n",
       "      <td>[[608866, 2075531], []]</td>\n",
       "      <td>[[], [2126387, 2126668]]</td>\n",
       "    </tr>\n",
       "    <tr>\n",
       "      <th>485.787</th>\n",
       "      <td>[[1681092, 2088416], []]</td>\n",
       "      <td>[[571040], [1929460]]</td>\n",
       "      <td>[[1681093, 2088417], []]</td>\n",
       "      <td>[[], [1681087, 2088411]]</td>\n",
       "      <td>[[571041], [1929459]]</td>\n",
       "      <td>[[1681094, 2088418], []]</td>\n",
       "      <td>[[], [1681096, 2088420]]</td>\n",
       "      <td>[[], [1681086, 2088410]]</td>\n",
       "      <td>[[], [642221]]</td>\n",
       "      <td>[[], [1681073, 2088397]]</td>\n",
       "      <td>[[571042], [1929458]]</td>\n",
       "      <td>[[1681095, 2088419], []]</td>\n",
       "      <td>[[1743540, 2076684], []]</td>\n",
       "      <td>[[], [2113611]]</td>\n",
       "      <td>[[], [1743535, 2076679]]</td>\n",
       "      <td>[[], [1681085, 2088409]]</td>\n",
       "      <td>[[], [1743533, 2076677]]</td>\n",
       "      <td>[[], [1681083, 2088407]]</td>\n",
       "      <td>[[], [172069, 1983786]]</td>\n",
       "      <td>[[], [1984391, 2148887, 2149448]]</td>\n",
       "    </tr>\n",
       "    <tr>\n",
       "      <th>485.346</th>\n",
       "      <td>[[], []]</td>\n",
       "      <td>[[3909273], [966083]]</td>\n",
       "      <td>[[], []]</td>\n",
       "      <td>[[], []]</td>\n",
       "      <td>[[3909274], [966082]]</td>\n",
       "      <td>[[], []]</td>\n",
       "      <td>[[], []]</td>\n",
       "      <td>[[], []]</td>\n",
       "      <td>[[1326893, 2306666], []]</td>\n",
       "      <td>[[], []]</td>\n",
       "      <td>[[3909275], [966081]]</td>\n",
       "      <td>[[], []]</td>\n",
       "      <td>[[2125901], [4026330]]</td>\n",
       "      <td>[[4115887, 4136497], [4126450]]</td>\n",
       "      <td>[[4026335], [2125896]]</td>\n",
       "      <td>[[], []]</td>\n",
       "      <td>[[4026337], [2125894]]</td>\n",
       "      <td>[[], []]</td>\n",
       "      <td>[[514, 4042348], []]</td>\n",
       "      <td>[[1322066, 1322347], []]</td>\n",
       "    </tr>\n",
       "  </tbody>\n",
       "</table>\n",
       "</div>"
      ],
      "text/plain": [
       "kmer              AAAAAGGGGCTTGCGGAACAGTGTTTATCTT  \\\n",
       "485.340                                  [[], []]   \n",
       "485.450  [[1599061, 2036868, 2108366], [2062266]]   \n",
       "485.728                                  [[], []]   \n",
       "485.787                  [[1681092, 2088416], []]   \n",
       "485.346                                  [[], []]   \n",
       "\n",
       "kmer       AAAAGGATGGCTTCGTCATTCCCGCGCAGGC  \\\n",
       "485.340  [[2175075, 2177054, 2177605], []]   \n",
       "485.450                    [[], [1543116]]   \n",
       "485.728            [[771682, 2018240], []]   \n",
       "485.787              [[571040], [1929460]]   \n",
       "485.346              [[3909273], [966083]]   \n",
       "\n",
       "kmer              AAAAGGGGCTTGCGGAACAGTGTTTATCTTT  \\\n",
       "485.340                                  [[], []]   \n",
       "485.450  [[1599062, 2036869, 2108367], [2062265]]   \n",
       "485.728                                  [[], []]   \n",
       "485.787                  [[1681093, 2088417], []]   \n",
       "485.346                                  [[], []]   \n",
       "\n",
       "kmer              AAACACTGTTCCGCAAGCCCCTTTTTCAGAC  \\\n",
       "485.340                                  [[], []]   \n",
       "485.450  [[2062271], [1599056, 2036863, 2108361]]   \n",
       "485.728                                  [[], []]   \n",
       "485.787                  [[], [1681087, 2088411]]   \n",
       "485.346                                  [[], []]   \n",
       "\n",
       "kmer       AAAGGATGGCTTCGTCATTCCCGCGCAGGCG  \\\n",
       "485.340  [[2175076, 2177055, 2177606], []]   \n",
       "485.450                    [[], [1543115]]   \n",
       "485.728            [[771683, 2018241], []]   \n",
       "485.787              [[571041], [1929459]]   \n",
       "485.346              [[3909274], [966082]]   \n",
       "\n",
       "kmer              AAAGGGGCTTGCGGAACAGTGTTTATCTTTG  \\\n",
       "485.340                                  [[], []]   \n",
       "485.450  [[1599063, 2036870, 2108368], [2062264]]   \n",
       "485.728                                  [[], []]   \n",
       "485.787                  [[1681094, 2088418], []]   \n",
       "485.346                                  [[], []]   \n",
       "\n",
       "kmer              AACAAAGATAAACACTGTTCCGCAAGCCCCT  \\\n",
       "485.340                                  [[], []]   \n",
       "485.450  [[2062262], [1599065, 2036872, 2108370]]   \n",
       "485.728                                  [[], []]   \n",
       "485.787                  [[], [1681096, 2088420]]   \n",
       "485.346                                  [[], []]   \n",
       "\n",
       "kmer              AACACTGTTCCGCAAGCCCCTTTTTCAGACC  \\\n",
       "485.340                                  [[], []]   \n",
       "485.450  [[2062272], [1599055, 2036862, 2108360]]   \n",
       "485.728                                  [[], []]   \n",
       "485.787                  [[], [1681086, 2088410]]   \n",
       "485.346                                  [[], []]   \n",
       "\n",
       "kmer    AACCCGTACCGGTTTTTGTTAATCCGCTATA  \\\n",
       "485.340  [[2108003], [601665, 1268208]]   \n",
       "485.450        [[1926331, 2080794], []]   \n",
       "485.728        [[], [1552469, 2046373]]   \n",
       "485.787                  [[], [642221]]   \n",
       "485.346        [[1326893, 2306666], []]   \n",
       "\n",
       "kmer              AAGCCCCTTTTTCAGACCGCTGGCTAAAAGA  \\\n",
       "485.340                                  [[], []]   \n",
       "485.450  [[2062285], [1599042, 2036849, 2108347]]   \n",
       "485.728                                  [[], []]   \n",
       "485.787                  [[], [1681073, 2088397]]   \n",
       "485.346                                  [[], []]   \n",
       "\n",
       "kmer       AAGGATGGCTTCGTCATTCCCGCGCAGGCGG  \\\n",
       "485.340  [[2175077, 2177056, 2177607], []]   \n",
       "485.450                    [[], [1543114]]   \n",
       "485.728            [[771684, 2018242], []]   \n",
       "485.787              [[571042], [1929458]]   \n",
       "485.346              [[3909275], [966081]]   \n",
       "\n",
       "kmer              AAGGGGCTTGCGGAACAGTGTTTATCTTTGT  \\\n",
       "485.340                                  [[], []]   \n",
       "485.450  [[1599064, 2036871, 2108369], [2062263]]   \n",
       "485.728                                  [[], []]   \n",
       "485.787                  [[1681095, 2088419], []]   \n",
       "485.346                                  [[], []]   \n",
       "\n",
       "kmer    AATGGCGGGTTTTAGGATTACGGTGTATCGG  AATTTACCGGAAAGGAAAAAAATGAAGAAGC  \\\n",
       "485.340          [[2145058], [1866519]]         [[], [2163504, 2200047]]   \n",
       "485.450                 [[], [1221922]]                  [[2046638], []]   \n",
       "485.728          [[1739566], [1440822]]         [[], [2070391, 2093310]]   \n",
       "485.787        [[1743540, 2076684], []]                  [[], [2113611]]   \n",
       "485.346          [[2125901], [4026330]]  [[4115887, 4136497], [4126450]]   \n",
       "\n",
       "kmer    ACACCGTAATCCTAAAACCCGCCATTCCCGC  \\\n",
       "485.340          [[1866524], [2145053]]   \n",
       "485.450                 [[1221927], []]   \n",
       "485.728          [[1440827], [1739561]]   \n",
       "485.787        [[], [1743535, 2076679]]   \n",
       "485.346          [[4026335], [2125896]]   \n",
       "\n",
       "kmer              ACACTGTTCCGCAAGCCCCTTTTTCAGACCG  \\\n",
       "485.340                                  [[], []]   \n",
       "485.450  [[2062273], [1599054, 2036861, 2108359]]   \n",
       "485.728                                  [[], []]   \n",
       "485.787                  [[], [1681085, 2088409]]   \n",
       "485.346                                  [[], []]   \n",
       "\n",
       "kmer    ACCGTAATCCTAAAACCCGCCATTCCCGCGC  \\\n",
       "485.340          [[1866526], [2145051]]   \n",
       "485.450                 [[1221929], []]   \n",
       "485.728          [[1440829], [1739559]]   \n",
       "485.787        [[], [1743533, 2076677]]   \n",
       "485.346          [[4026337], [2125894]]   \n",
       "\n",
       "kmer              ACTGTTCCGCAAGCCCCTTTTTCAGACCGCT  \\\n",
       "485.340                                  [[], []]   \n",
       "485.450  [[2062275], [1599052, 2036859, 2108357]]   \n",
       "485.728                                  [[], []]   \n",
       "485.787                  [[], [1681083, 2088407]]   \n",
       "485.346                                  [[], []]   \n",
       "\n",
       "kmer    ACTTCGGCACACCGCCCCGGCAGCTAAAAAT    AGAGAGAGGGCAACAAGCCGCAAGGCTTGTA  \n",
       "485.340  [[1544824], [210510, 1359235]]  [[1008483, 2168628, 2168909], []]  \n",
       "485.450           [[525878], [1421311]]  [[], [1834137, 1834698, 1834979]]  \n",
       "485.728         [[608866, 2075531], []]           [[], [2126387, 2126668]]  \n",
       "485.787         [[], [172069, 1983786]]  [[], [1984391, 2148887, 2149448]]  \n",
       "485.346            [[514, 4042348], []]           [[1322066, 1322347], []]  "
      ]
     },
     "execution_count": 10,
     "metadata": {},
     "output_type": "execute_result"
    }
   ],
   "source": [
    "kmer_pos.head()"
   ]
  },
  {
   "cell_type": "markdown",
   "metadata": {},
   "source": [
    "### store results in a dicionary"
   ]
  },
  {
   "cell_type": "code",
   "execution_count": 11,
   "metadata": {},
   "outputs": [
    {
     "name": "stdout",
     "output_type": "stream",
     "text": [
      "CPU times: user 2min 46s, sys: 332 ms, total: 2min 46s\n",
      "Wall time: 2min 46s\n"
     ]
    }
   ],
   "source": [
    "%%time\n",
    "strain_kmer_pos = defaultdict(list)\n",
    "for strain,s in seqs.items(): \n",
    "    seq = s.upper()\n",
    "    kmer_pos = []\n",
    "    for kmer in kmers:\n",
    "        kmer_pos.append(list(find_all(seq,kmer)))\n",
    "        kmer_pos.append(list(find_all(seq,compliment(kmer))))     \n",
    "    strain_kmer_pos[strain]= kmer_pos"
   ]
  },
  {
   "cell_type": "code",
   "execution_count": null,
   "metadata": {},
   "outputs": [],
   "source": [
    "count = 0\n",
    "for s,d in strain_kmer_pos.items():\n",
    "    for k,v in d.items():\n",
    "        if len(v) > 0:\n",
    "            count += l\n",
    "            print(s,k, v)\n",
    "print (count)"
   ]
  },
  {
   "cell_type": "markdown",
   "metadata": {},
   "source": [
    "## Same Using REGEX\n",
    "Need this when using Motifs instead of kmers.  \n",
    "First example as above dataframes."
   ]
  },
  {
   "cell_type": "code",
   "execution_count": 12,
   "metadata": {},
   "outputs": [],
   "source": [
    "#%%time\n",
    "index = seqs.keys()\n",
    "km = kmers[:20]# only use 10 of them\n",
    "kmer_pos =  pd.DataFrame(index=index, columns=km)\n"
   ]
  },
  {
   "cell_type": "code",
   "execution_count": 13,
   "metadata": {},
   "outputs": [
    {
     "name": "stdout",
     "output_type": "stream",
     "text": [
      "CPU times: user 2min 1s, sys: 384 ms, total: 2min 1s\n",
      "Wall time: 2min 1s\n"
     ]
    }
   ],
   "source": [
    "%%time\n",
    "for strain,s in seqs.items(): \n",
    "    seq = s.upper()\n",
    "    for kmer in km:\n",
    "        k_p =[]\n",
    "        #print(strain,kmer)\n",
    "        k_p.append ([m.start() for m in re.finditer(kmer, seq)])\n",
    "        k_p.append ([m.start() for m in re.finditer(compliment(kmer), seq)])\n",
    "        kmer_pos.at[strain,kmer] = k_p\n",
    " "
   ]
  },
  {
   "cell_type": "markdown",
   "metadata": {},
   "source": [
    "### Alternative\n",
    "Using a dict of dicts - outer dict key = strain,  inner dict key = kmer"
   ]
  },
  {
   "cell_type": "code",
   "execution_count": 15,
   "metadata": {},
   "outputs": [
    {
     "name": "stdout",
     "output_type": "stream",
     "text": [
      "CPU times: user 2min 1s, sys: 300 ms, total: 2min 2s\n",
      "Wall time: 2min 2s\n"
     ]
    }
   ],
   "source": [
    "%%time\n",
    "strain_kmer_pos = defaultdict(list)\n",
    "\n",
    "for i,(strain,seq) in enumerate(seqs.items()): \n",
    "    s = seq.upper()\n",
    "    kmer_pos = defaultdict(list)\n",
    "    for kmer in kmers:\n",
    "        rev_kmer = compliment(kmer.upper())\n",
    "        kmer_pos[kmer] = ([m.start() for m in re.finditer(kmer, s)])\n",
    "        # storing positions of kmer and it's compliment in same list\n",
    "        #kmer_pos[kmer].extend([m.start() for m in re.finditer(rev_kmer, seq)])\n",
    "        # alternative - so know that it's on reverse strand\n",
    "        kmer_pos[f'rev_{kmer}']=([m.start() for m in re.finditer(rev_kmer, s)])  \n",
    "        \n",
    "    strain_kmer_pos[strain]= kmer_pos"
   ]
  },
  {
   "cell_type": "code",
   "execution_count": null,
   "metadata": {},
   "outputs": [],
   "source": [
    "for s,d in strain_kmer_pos.items():\n",
    "    for k,v in d.items():\n",
    "        if len(v) > 3:\n",
    "            print(s,k, v)\n",
    "#AAAAAGGGGCTTGCGGAACAGTGTTTATCTT "
   ]
  },
  {
   "cell_type": "markdown",
   "metadata": {},
   "source": [
    "### Exploring the feature matrix"
   ]
  },
  {
   "cell_type": "code",
   "execution_count": null,
   "metadata": {},
   "outputs": [],
   "source": [
    "features_df = pd.read_pickle('features.pkl')\n",
    "X =features_df.to_numpy()"
   ]
  },
  {
   "cell_type": "code",
   "execution_count": null,
   "metadata": {},
   "outputs": [],
   "source": [
    "print('sparsity = ',1.0 - np.count_nonzero(X) / X.size)\n",
    "Z =np.sum(X, axis=0)\n",
    "print ('column sparsity=', 1.0 - np.count_nonzero(Z) / len(Z))"
   ]
  },
  {
   "cell_type": "markdown",
   "metadata": {},
   "source": [
    "#### How often so the kmers occur at least once in a sequence"
   ]
  },
  {
   "cell_type": "code",
   "execution_count": null,
   "metadata": {},
   "outputs": [],
   "source": [
    "Z2 = np.count_nonzero(X, axis=0)\n",
    "len(Z2)  # All kmers occur in atleast one sequence"
   ]
  },
  {
   "cell_type": "code",
   "execution_count": null,
   "metadata": {},
   "outputs": [],
   "source": [
    "import seaborn as sns\n",
    "data = (Z2) #X.flatten()\n",
    "fig, ax =plt.subplots(1,2)\n",
    "sns.distplot(data,bins=np.arange(5, data.max()+1),kde=False,hist_kws={\"align\" : \"left\"},  ax=ax[1])\n",
    "sns.distplot(data,bins=np.arange(0, 30),kde=False,hist_kws={\"align\" : \"left\"},ax=ax[0])\n",
    "fig.show()"
   ]
  },
  {
   "cell_type": "code",
   "execution_count": null,
   "metadata": {},
   "outputs": [],
   "source": [
    "len([z for z in Z2 if z >10 and z <300])"
   ]
  }
 ],
 "metadata": {
  "kernelspec": {
   "display_name": "Python 3",
   "language": "python",
   "name": "python3"
  },
  "language_info": {
   "codemirror_mode": {
    "name": "ipython",
    "version": 3
   },
   "file_extension": ".py",
   "mimetype": "text/x-python",
   "name": "python",
   "nbconvert_exporter": "python",
   "pygments_lexer": "ipython3",
   "version": "3.6.3"
  }
 },
 "nbformat": 4,
 "nbformat_minor": 2
}
